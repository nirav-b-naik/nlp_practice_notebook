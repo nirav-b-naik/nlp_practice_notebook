{
 "cells": [
  {
   "cell_type": "code",
   "execution_count": 1,
   "id": "d85c8ca0",
   "metadata": {},
   "outputs": [
    {
     "name": "stderr",
     "output_type": "stream",
     "text": [
      "/usr/lib/python3/dist-packages/paramiko/transport.py:236: CryptographyDeprecationWarning: Blowfish has been deprecated\n",
      "  \"class\": algorithms.Blowfish,\n",
      "[nltk_data] Downloading package abc to /home/dai/nltk_data...\n",
      "[nltk_data]   Package abc is already up-to-date!\n"
     ]
    },
    {
     "data": {
      "text/plain": [
       "True"
      ]
     },
     "execution_count": 1,
     "metadata": {},
     "output_type": "execute_result"
    }
   ],
   "source": [
    "import nltk\n",
    "import string\n",
    "import gensim\n",
    "from nltk.corpus import abc\n",
    "nltk.download('abc')"
   ]
  },
  {
   "cell_type": "markdown",
   "id": "8225d310",
   "metadata": {},
   "source": [
    "<b><u>importing abc corpus for practice"
   ]
  },
  {
   "cell_type": "code",
   "execution_count": 2,
   "id": "586e46f1",
   "metadata": {},
   "outputs": [
    {
     "data": {
      "text/plain": [
       "[['PM', 'denies', 'knowledge', 'of', 'AWB', 'kickbacks', 'The', 'Prime', 'Minister', 'has', 'denied', 'he', 'knew', 'AWB', 'was', 'paying', 'kickbacks', 'to', 'Iraq', 'despite', 'writing', 'to', 'the', 'wheat', 'exporter', 'asking', 'to', 'be', 'kept', 'fully', 'informed', 'on', 'Iraq', 'wheat', 'sales', '.'], ['Letters', 'from', 'John', 'Howard', 'and', 'Deputy', 'Prime', 'Minister', 'Mark', 'Vaile', 'to', 'AWB', 'have', 'been', 'released', 'by', 'the', 'Cole', 'inquiry', 'into', 'the', 'oil', 'for', 'food', 'program', '.'], ...]"
      ]
     },
     "execution_count": 2,
     "metadata": {},
     "output_type": "execute_result"
    }
   ],
   "source": [
    "abc.sents()"
   ]
  },
  {
   "cell_type": "markdown",
   "id": "fbeb9309",
   "metadata": {},
   "source": [
    "<b><u>creating model from gensim for practice"
   ]
  },
  {
   "cell_type": "code",
   "execution_count": 3,
   "id": "9613132c",
   "metadata": {},
   "outputs": [],
   "source": [
    "model = gensim.models.Word2Vec(abc.sents())"
   ]
  },
  {
   "cell_type": "code",
   "execution_count": 4,
   "id": "7e1688a8",
   "metadata": {},
   "outputs": [],
   "source": [
    "vocab = list(model.wv.key_to_index)"
   ]
  },
  {
   "cell_type": "code",
   "execution_count": 5,
   "id": "a9587c0e",
   "metadata": {},
   "outputs": [],
   "source": [
    "data = model.wv.most_similar('science')"
   ]
  },
  {
   "cell_type": "code",
   "execution_count": 6,
   "id": "cac5fdde",
   "metadata": {},
   "outputs": [
    {
     "name": "stdout",
     "output_type": "stream",
     "text": [
      "[('law', 0.9348640441894531), ('policy', 0.9129793047904968), ('general', 0.9111499190330505), ('agriculture', 0.9049639701843262), ('discussion', 0.9038779139518738), ('education', 0.9038368463516235), ('media', 0.9017807245254517), ('biology', 0.8982515335083008), ('department', 0.8980605602264404), ('physics', 0.8975631594657898)]\n"
     ]
    }
   ],
   "source": [
    "print(data)"
   ]
  },
  {
   "cell_type": "markdown",
   "id": "8a92da3c",
   "metadata": {},
   "source": [
    "<b><u> importing json file"
   ]
  },
  {
   "cell_type": "code",
   "execution_count": 7,
   "id": "2c6fe756",
   "metadata": {},
   "outputs": [],
   "source": [
    "import json\n",
    "import os"
   ]
  },
  {
   "cell_type": "code",
   "execution_count": 8,
   "id": "9b724b11",
   "metadata": {},
   "outputs": [],
   "source": [
    "os.chdir('.')"
   ]
  },
  {
   "cell_type": "code",
   "execution_count": 9,
   "id": "03d518bb",
   "metadata": {},
   "outputs": [],
   "source": [
    "json_file = 'intents.json'\n",
    "\n",
    "with open('intents.json','r') as f:\n",
    "    data = json.load(f)"
   ]
  },
  {
   "cell_type": "markdown",
   "id": "844875bb",
   "metadata": {},
   "source": [
    "<b><u>converting json file data to dataframe"
   ]
  },
  {
   "cell_type": "code",
   "execution_count": 10,
   "id": "3c46cc0b",
   "metadata": {},
   "outputs": [],
   "source": [
    "import pandas as pd"
   ]
  },
  {
   "cell_type": "code",
   "execution_count": 11,
   "id": "fb975182",
   "metadata": {},
   "outputs": [],
   "source": [
    "df = pd.DataFrame(data)"
   ]
  },
  {
   "cell_type": "code",
   "execution_count": 12,
   "id": "04119526",
   "metadata": {},
   "outputs": [],
   "source": [
    "df['patterns'] = df['patterns'].apply(\", \".join)"
   ]
  },
  {
   "cell_type": "code",
   "execution_count": 13,
   "id": "af5e6637",
   "metadata": {},
   "outputs": [
    {
     "data": {
      "text/plain": [
       "'Hi, How are you, Is any one to talk?, Hello, hi are you available'"
      ]
     },
     "execution_count": 13,
     "metadata": {},
     "output_type": "execute_result"
    }
   ],
   "source": [
    "df.iloc[0,1]"
   ]
  },
  {
   "cell_type": "code",
   "execution_count": 14,
   "id": "6aa37beb",
   "metadata": {},
   "outputs": [],
   "source": [
    "from nltk.corpus import stopwords\n",
    "from textblob import Word"
   ]
  },
  {
   "cell_type": "code",
   "execution_count": 15,
   "id": "ab1798ea",
   "metadata": {},
   "outputs": [],
   "source": [
    "stop = stopwords.words('english')"
   ]
  },
  {
   "cell_type": "code",
   "execution_count": 16,
   "id": "f4c87324",
   "metadata": {},
   "outputs": [],
   "source": [
    "df['patterns'] = df['patterns'].apply(\n",
    "    lambda x: \" \".join(x.lower() for x in x.split()))"
   ]
  },
  {
   "cell_type": "code",
   "execution_count": 17,
   "id": "3c9d14a3",
   "metadata": {},
   "outputs": [],
   "source": [
    "df['patterns'] = df['patterns'].apply(\n",
    "    lambda x: \" \".join(x.lower() for x in x.split() if x not in string.punctuation))"
   ]
  },
  {
   "cell_type": "code",
   "execution_count": 18,
   "id": "d5a783fb",
   "metadata": {},
   "outputs": [
    {
     "name": "stderr",
     "output_type": "stream",
     "text": [
      "/tmp/ipykernel_2363516/3397828349.py:1: FutureWarning: The default value of regex will change from True to False in a future version.\n",
      "  df['patterns'] = df['patterns'].str.replace('[^\\w\\s]',\"\")\n"
     ]
    }
   ],
   "source": [
    "df['patterns'] = df['patterns'].str.replace('[^\\w\\s]',\"\")"
   ]
  },
  {
   "cell_type": "code",
   "execution_count": 19,
   "id": "c11f8956",
   "metadata": {},
   "outputs": [],
   "source": [
    "df['patterns'] = df['patterns'].apply(\n",
    "    lambda x: \" \".join(x.lower() for x in x.split() if not x.isdigit()))"
   ]
  },
  {
   "cell_type": "code",
   "execution_count": 20,
   "id": "0bb85276",
   "metadata": {},
   "outputs": [],
   "source": [
    "df['patterns'] = df['patterns'].apply(\n",
    "    lambda x: \" \".join(x.lower() for x in x.split() if not x in stop))"
   ]
  },
  {
   "cell_type": "code",
   "execution_count": 21,
   "id": "162742ff",
   "metadata": {},
   "outputs": [],
   "source": [
    "df['patterns'] = df['patterns'].apply(\n",
    "    lambda x: \" \".join([Word(word).lemmatize() for word in x.split()]))"
   ]
  },
  {
   "cell_type": "markdown",
   "id": "641c6008",
   "metadata": {},
   "source": [
    "<b><u>creating big list"
   ]
  },
  {
   "cell_type": "code",
   "execution_count": 22,
   "id": "07c942b8",
   "metadata": {},
   "outputs": [],
   "source": [
    "bigger_list = []\n",
    "\n",
    "for i in df['patterns']:\n",
    "    li = i.split()\n",
    "    bigger_list.append(li)"
   ]
  },
  {
   "cell_type": "markdown",
   "id": "0ed929fe",
   "metadata": {},
   "source": [
    "<b><u>custom data is fed to machine for furthur processing"
   ]
  },
  {
   "cell_type": "code",
   "execution_count": 23,
   "id": "c263a633",
   "metadata": {},
   "outputs": [],
   "source": [
    "model = gensim.models.Word2Vec(bigger_list,\n",
    "                              min_count=1,\n",
    "                              vector_size=300,\n",
    "                              workers=4)"
   ]
  },
  {
   "cell_type": "code",
   "execution_count": 25,
   "id": "02f67940",
   "metadata": {},
   "outputs": [],
   "source": [
    "model.save('word2vec.model')\n",
    "model.save('model.bin')"
   ]
  },
  {
   "cell_type": "markdown",
   "id": "6bdb7376",
   "metadata": {},
   "source": [
    "<b><u>loading new model"
   ]
  },
  {
   "cell_type": "code",
   "execution_count": 34,
   "id": "1b020383",
   "metadata": {},
   "outputs": [],
   "source": [
    "new_model = gensim.models.Word2Vec.load('model.bin')"
   ]
  },
  {
   "cell_type": "code",
   "execution_count": 35,
   "id": "6a6fc750",
   "metadata": {},
   "outputs": [],
   "source": [
    "vocab = list(new_model.wv.key_to_index)"
   ]
  },
  {
   "cell_type": "markdown",
   "id": "98b784fd",
   "metadata": {},
   "source": [
    "<b><u>checking most similar word"
   ]
  },
  {
   "cell_type": "code",
   "execution_count": 50,
   "id": "ece9cdba",
   "metadata": {},
   "outputs": [],
   "source": [
    "similar_words = new_model.wv.most_similar('using')"
   ]
  },
  {
   "cell_type": "code",
   "execution_count": 68,
   "id": "e8f2940c",
   "metadata": {},
   "outputs": [
    {
     "data": {
      "text/plain": [
       "[('kind', 0.19785605370998383),\n",
       " ('guidance', 0.10632028430700302),\n",
       " ('see', 0.08774926513433456)]"
      ]
     },
     "execution_count": 68,
     "metadata": {},
     "output_type": "execute_result"
    }
   ],
   "source": [
    "similar_words[:3]"
   ]
  },
  {
   "cell_type": "markdown",
   "id": "1bd224de",
   "metadata": {},
   "source": [
    "<b><u>puting outer sentance in model to find dissimilarity"
   ]
  },
  {
   "cell_type": "code",
   "execution_count": 65,
   "id": "aa3a4cb3",
   "metadata": {},
   "outputs": [],
   "source": [
    "sent= 'see you later, thanks for visiting'"
   ]
  },
  {
   "cell_type": "code",
   "execution_count": 66,
   "id": "535c1769",
   "metadata": {},
   "outputs": [],
   "source": [
    "dissimilar_words = new_model.wv.doesnt_match(sent.split())"
   ]
  },
  {
   "cell_type": "code",
   "execution_count": 67,
   "id": "2067d3db",
   "metadata": {},
   "outputs": [
    {
     "name": "stdout",
     "output_type": "stream",
     "text": [
      "see\n"
     ]
    }
   ],
   "source": [
    "print(dissimilar_words)"
   ]
  },
  {
   "cell_type": "code",
   "execution_count": null,
   "id": "1efee1c8",
   "metadata": {},
   "outputs": [],
   "source": []
  },
  {
   "cell_type": "code",
   "execution_count": null,
   "id": "2d9f00f3",
   "metadata": {},
   "outputs": [],
   "source": []
  },
  {
   "cell_type": "code",
   "execution_count": null,
   "id": "e2568a4b",
   "metadata": {},
   "outputs": [],
   "source": []
  },
  {
   "cell_type": "code",
   "execution_count": null,
   "id": "8e300f24",
   "metadata": {},
   "outputs": [],
   "source": []
  },
  {
   "cell_type": "code",
   "execution_count": null,
   "id": "f5bb726d",
   "metadata": {},
   "outputs": [],
   "source": []
  }
 ],
 "metadata": {
  "kernelspec": {
   "display_name": "Python 3 (ipykernel)",
   "language": "python",
   "name": "python3"
  },
  "language_info": {
   "codemirror_mode": {
    "name": "ipython",
    "version": 3
   },
   "file_extension": ".py",
   "mimetype": "text/x-python",
   "name": "python",
   "nbconvert_exporter": "python",
   "pygments_lexer": "ipython3",
   "version": "3.10.6"
  }
 },
 "nbformat": 4,
 "nbformat_minor": 5
}
