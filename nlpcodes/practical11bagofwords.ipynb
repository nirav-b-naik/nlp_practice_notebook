{
 "cells": [
  {
   "cell_type": "markdown",
   "id": "44631613",
   "metadata": {},
   "source": [
    "### Bags of Words"
   ]
  },
  {
   "cell_type": "code",
   "execution_count": 2,
   "id": "ef3e5ab5",
   "metadata": {},
   "outputs": [],
   "source": [
    "from sklearn.feature_extraction.text import CountVectorizer\n",
    "\n",
    "import pandas as pd"
   ]
  },
  {
   "cell_type": "code",
   "execution_count": 3,
   "id": "40deea42",
   "metadata": {},
   "outputs": [],
   "source": [
    "sentance1= '''\n",
    "This is good Job. I will not miss it for anything.'''\n",
    "\n",
    "sentance2= '''\n",
    "This is not good at all. The good thing is that it is bad job.'''\n",
    "\n",
    "sentance3= '''\n",
    "Perfomance is always good as work. So do best perfomance.'''"
   ]
  },
  {
   "cell_type": "code",
   "execution_count": 4,
   "id": "5e822fda",
   "metadata": {},
   "outputs": [],
   "source": [
    "#Create the Object\n",
    "\n",
    "cv = CountVectorizer(stop_words='english')"
   ]
  },
  {
   "cell_type": "code",
   "execution_count": 5,
   "id": "eafd2dcb",
   "metadata": {},
   "outputs": [],
   "source": [
    "bow = cv.fit_transform([sentance1,sentance2,sentance3])"
   ]
  },
  {
   "cell_type": "code",
   "execution_count": 6,
   "id": "503fffe5",
   "metadata": {},
   "outputs": [
    {
     "data": {
      "text/plain": [
       "array(['bad', 'best', 'good', 'job', 'miss', 'perfomance', 'thing',\n",
       "       'work'], dtype=object)"
      ]
     },
     "execution_count": 6,
     "metadata": {},
     "output_type": "execute_result"
    }
   ],
   "source": [
    "cv.get_feature_names_out()"
   ]
  },
  {
   "cell_type": "code",
   "execution_count": 7,
   "id": "15fd087d",
   "metadata": {},
   "outputs": [
    {
     "name": "stdout",
     "output_type": "stream",
     "text": [
      "  (0, 2)\t1\n",
      "  (0, 3)\t1\n",
      "  (0, 4)\t1\n",
      "  (1, 2)\t2\n",
      "  (1, 3)\t1\n",
      "  (1, 6)\t1\n",
      "  (1, 0)\t1\n",
      "  (2, 2)\t1\n",
      "  (2, 5)\t2\n",
      "  (2, 7)\t1\n",
      "  (2, 1)\t1\n"
     ]
    }
   ],
   "source": [
    "print(bow)"
   ]
  },
  {
   "cell_type": "code",
   "execution_count": 8,
   "id": "c96287c0",
   "metadata": {},
   "outputs": [],
   "source": [
    "#Create dataframe\n",
    "cv_dataframe = pd.DataFrame(bow.toarray(), columns=cv.get_feature_names_out())"
   ]
  },
  {
   "cell_type": "code",
   "execution_count": 9,
   "id": "9c9fb548",
   "metadata": {},
   "outputs": [
    {
     "data": {
      "text/plain": [
       "(3, 8)"
      ]
     },
     "execution_count": 9,
     "metadata": {},
     "output_type": "execute_result"
    }
   ],
   "source": [
    "cv_dataframe.shape"
   ]
  },
  {
   "cell_type": "markdown",
   "id": "56467dff",
   "metadata": {},
   "source": [
    "### N-Gram"
   ]
  },
  {
   "cell_type": "code",
   "execution_count": 34,
   "id": "8631ec06",
   "metadata": {},
   "outputs": [],
   "source": [
    "#Create the Object\n",
    "\n",
    "cv = CountVectorizer(stop_words='english',ngram_range=(2,2))"
   ]
  },
  {
   "cell_type": "code",
   "execution_count": 35,
   "id": "71cf3c5b",
   "metadata": {},
   "outputs": [],
   "source": [
    "bow = cv.fit_transform([sentance1,sentance2,sentance3])"
   ]
  },
  {
   "cell_type": "code",
   "execution_count": 36,
   "id": "0322cb93",
   "metadata": {},
   "outputs": [
    {
     "data": {
      "text/plain": [
       "array(['bad job', 'best perfomance', 'good good', 'good job',\n",
       "       'good thing', 'good work', 'job miss', 'perfomance good',\n",
       "       'thing bad', 'work best'], dtype=object)"
      ]
     },
     "execution_count": 36,
     "metadata": {},
     "output_type": "execute_result"
    }
   ],
   "source": [
    "cv.get_feature_names_out()"
   ]
  },
  {
   "cell_type": "code",
   "execution_count": 37,
   "id": "a4a2a548",
   "metadata": {},
   "outputs": [
    {
     "name": "stdout",
     "output_type": "stream",
     "text": [
      "  (0, 3)\t1\n",
      "  (0, 6)\t1\n",
      "  (1, 2)\t1\n",
      "  (1, 4)\t1\n",
      "  (1, 8)\t1\n",
      "  (1, 0)\t1\n",
      "  (2, 7)\t1\n",
      "  (2, 5)\t1\n",
      "  (2, 9)\t1\n",
      "  (2, 1)\t1\n"
     ]
    }
   ],
   "source": [
    "print(bow)"
   ]
  },
  {
   "cell_type": "code",
   "execution_count": 38,
   "id": "771573ba",
   "metadata": {},
   "outputs": [],
   "source": [
    "#Create dataframe\n",
    "cv_dataframe = pd.DataFrame(bow.toarray(), columns=cv.get_feature_names_out())"
   ]
  },
  {
   "cell_type": "code",
   "execution_count": 39,
   "id": "8c5b699a",
   "metadata": {},
   "outputs": [
    {
     "data": {
      "text/html": [
       "<div>\n",
       "<style scoped>\n",
       "    .dataframe tbody tr th:only-of-type {\n",
       "        vertical-align: middle;\n",
       "    }\n",
       "\n",
       "    .dataframe tbody tr th {\n",
       "        vertical-align: top;\n",
       "    }\n",
       "\n",
       "    .dataframe thead th {\n",
       "        text-align: right;\n",
       "    }\n",
       "</style>\n",
       "<table border=\"1\" class=\"dataframe\">\n",
       "  <thead>\n",
       "    <tr style=\"text-align: right;\">\n",
       "      <th></th>\n",
       "      <th>bad job</th>\n",
       "      <th>best perfomance</th>\n",
       "      <th>good good</th>\n",
       "      <th>good job</th>\n",
       "      <th>good thing</th>\n",
       "      <th>good work</th>\n",
       "      <th>job miss</th>\n",
       "      <th>perfomance good</th>\n",
       "      <th>thing bad</th>\n",
       "      <th>work best</th>\n",
       "    </tr>\n",
       "  </thead>\n",
       "  <tbody>\n",
       "    <tr>\n",
       "      <th>0</th>\n",
       "      <td>0</td>\n",
       "      <td>0</td>\n",
       "      <td>0</td>\n",
       "      <td>1</td>\n",
       "      <td>0</td>\n",
       "      <td>0</td>\n",
       "      <td>1</td>\n",
       "      <td>0</td>\n",
       "      <td>0</td>\n",
       "      <td>0</td>\n",
       "    </tr>\n",
       "    <tr>\n",
       "      <th>1</th>\n",
       "      <td>1</td>\n",
       "      <td>0</td>\n",
       "      <td>1</td>\n",
       "      <td>0</td>\n",
       "      <td>1</td>\n",
       "      <td>0</td>\n",
       "      <td>0</td>\n",
       "      <td>0</td>\n",
       "      <td>1</td>\n",
       "      <td>0</td>\n",
       "    </tr>\n",
       "    <tr>\n",
       "      <th>2</th>\n",
       "      <td>0</td>\n",
       "      <td>1</td>\n",
       "      <td>0</td>\n",
       "      <td>0</td>\n",
       "      <td>0</td>\n",
       "      <td>1</td>\n",
       "      <td>0</td>\n",
       "      <td>1</td>\n",
       "      <td>0</td>\n",
       "      <td>1</td>\n",
       "    </tr>\n",
       "  </tbody>\n",
       "</table>\n",
       "</div>"
      ],
      "text/plain": [
       "   bad job  best perfomance  good good  good job  good thing  good work  \\\n",
       "0        0                0          0         1           0          0   \n",
       "1        1                0          1         0           1          0   \n",
       "2        0                1          0         0           0          1   \n",
       "\n",
       "   job miss  perfomance good  thing bad  work best  \n",
       "0         1                0          0          0  \n",
       "1         0                0          1          0  \n",
       "2         0                1          0          1  "
      ]
     },
     "execution_count": 39,
     "metadata": {},
     "output_type": "execute_result"
    }
   ],
   "source": [
    "cv_dataframe"
   ]
  },
  {
   "cell_type": "code",
   "execution_count": null,
   "id": "cac12fa3",
   "metadata": {},
   "outputs": [],
   "source": []
  },
  {
   "cell_type": "code",
   "execution_count": null,
   "id": "51bd546a",
   "metadata": {},
   "outputs": [],
   "source": []
  },
  {
   "cell_type": "code",
   "execution_count": null,
   "id": "d645917b",
   "metadata": {},
   "outputs": [],
   "source": []
  },
  {
   "cell_type": "code",
   "execution_count": null,
   "id": "b8e86a48",
   "metadata": {},
   "outputs": [],
   "source": []
  },
  {
   "cell_type": "code",
   "execution_count": null,
   "id": "9fc7014f",
   "metadata": {},
   "outputs": [],
   "source": []
  },
  {
   "cell_type": "code",
   "execution_count": null,
   "id": "f6e24518",
   "metadata": {},
   "outputs": [],
   "source": []
  },
  {
   "cell_type": "code",
   "execution_count": null,
   "id": "1353ef8b",
   "metadata": {},
   "outputs": [],
   "source": []
  },
  {
   "cell_type": "code",
   "execution_count": null,
   "id": "9c5a85c5",
   "metadata": {},
   "outputs": [],
   "source": []
  }
 ],
 "metadata": {
  "kernelspec": {
   "display_name": "Python 3 (ipykernel)",
   "language": "python",
   "name": "python3"
  },
  "language_info": {
   "codemirror_mode": {
    "name": "ipython",
    "version": 3
   },
   "file_extension": ".py",
   "mimetype": "text/x-python",
   "name": "python",
   "nbconvert_exporter": "python",
   "pygments_lexer": "ipython3",
   "version": "3.10.6"
  }
 },
 "nbformat": 4,
 "nbformat_minor": 5
}
