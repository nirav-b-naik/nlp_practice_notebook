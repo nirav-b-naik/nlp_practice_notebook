{
 "cells": [
  {
   "cell_type": "code",
   "execution_count": 1,
   "id": "13edc82c",
   "metadata": {},
   "outputs": [],
   "source": [
    "import language_tool_python"
   ]
  },
  {
   "cell_type": "markdown",
   "id": "96f85720",
   "metadata": {},
   "source": [
    "<b><u>creating object using tool"
   ]
  },
  {
   "cell_type": "code",
   "execution_count": 2,
   "id": "40c60361",
   "metadata": {},
   "outputs": [],
   "source": [
    "my_tool = language_tool_python.LanguageTool('en-US')"
   ]
  },
  {
   "cell_type": "markdown",
   "id": "35a1bb7c",
   "metadata": {},
   "source": [
    "<b><u>given text"
   ]
  },
  {
   "cell_type": "code",
   "execution_count": 3,
   "id": "546b99cc",
   "metadata": {},
   "outputs": [],
   "source": [
    "my_text = \"\"\"They was not aware about it.\"\"\""
   ]
  },
  {
   "cell_type": "markdown",
   "id": "18781ff1",
   "metadata": {},
   "source": [
    "<b><u>getting the matches"
   ]
  },
  {
   "cell_type": "code",
   "execution_count": 4,
   "id": "c8ca85b1",
   "metadata": {},
   "outputs": [],
   "source": [
    "my_matches = my_tool.check(my_text)"
   ]
  },
  {
   "cell_type": "markdown",
   "id": "84115112",
   "metadata": {},
   "source": [
    "<b><u>printing matches"
   ]
  },
  {
   "cell_type": "code",
   "execution_count": 5,
   "id": "c7782dc1",
   "metadata": {},
   "outputs": [
    {
     "name": "stdout",
     "output_type": "stream",
     "text": [
      "Offset 5, length 3, Rule ID: PERS_PRONOUN_AGREEMENT\n",
      "Message: Use a third-person plural verb with ‘they’.\n",
      "Suggestion: are; were\n",
      "They was not aware about it.\n",
      "     ^^^\n"
     ]
    }
   ],
   "source": [
    "print(my_matches[0])"
   ]
  },
  {
   "cell_type": "code",
   "execution_count": null,
   "id": "3ec07919",
   "metadata": {},
   "outputs": [],
   "source": []
  },
  {
   "cell_type": "code",
   "execution_count": 15,
   "id": "7364823d",
   "metadata": {},
   "outputs": [
    {
     "name": "stdout",
     "output_type": "stream",
     "text": [
      "Offset 0, length 3, Rule ID: THE_THEY\n",
      "Message: Did you mean “they”?\n",
      "Suggestion: They\n",
      "The have collected an documents.\n",
      "^^^\n",
      "Offset 19, length 12, Rule ID: A_NNS\n",
      "Message: The plural noun “documents” cannot be used with the article “an”. Did you mean “an document” or “documents”?\n",
      "Suggestion: an document; documents\n",
      "The have collected an documents.\n",
      "                   ^^^^^^^^^^^^\n"
     ]
    }
   ],
   "source": [
    "my_text2 = \"\"\"The have collected an documents.\"\"\"\n",
    "\n",
    "my_matches2 = my_tool.check(my_text2)\n",
    "\n",
    "print(my_matches2[0])\n",
    "print(my_matches2[1])"
   ]
  },
  {
   "cell_type": "code",
   "execution_count": 11,
   "id": "db377889",
   "metadata": {},
   "outputs": [
    {
     "data": {
      "text/plain": [
       "[Match({'ruleId': 'HE_VERB_AGR', 'message': 'The pronoun ‘He’ is usually used with a third-person or a past tense verb.', 'replacements': ['has', 'had'], 'offsetInContext': 3, 'context': 'He have collected an documents.', 'offset': 3, 'errorLength': 4, 'category': 'GRAMMAR', 'ruleIssueType': 'grammar', 'sentence': 'He have collected an documents.'}),\n",
       " Match({'ruleId': 'A_NNS', 'message': 'The plural noun “documents” cannot be used with the article “an”. Did you mean “an document” or “documents”?', 'replacements': ['an document', 'documents'], 'offsetInContext': 18, 'context': 'He have collected an documents.', 'offset': 18, 'errorLength': 12, 'category': 'GRAMMAR', 'ruleIssueType': 'grammar', 'sentence': 'He have collected an documents.'})]"
      ]
     },
     "execution_count": 11,
     "metadata": {},
     "output_type": "execute_result"
    }
   ],
   "source": [
    "my_matches2"
   ]
  },
  {
   "cell_type": "code",
   "execution_count": 13,
   "id": "95e0b683",
   "metadata": {},
   "outputs": [
    {
     "name": "stdout",
     "output_type": "stream",
     "text": [
      "Offset 3, length 4, Rule ID: HE_VERB_AGR\n",
      "Message: The pronoun ‘He’ is usually used with a third-person or a past tense verb.\n",
      "Suggestion: has; had\n",
      "He have collected an documents.\n",
      "   ^^^^\n",
      "Offset 18, length 12, Rule ID: A_NNS\n",
      "Message: The plural noun “documents” cannot be used with the article “an”. Did you mean “an document” or “documents”?\n",
      "Suggestion: an document; documents\n",
      "He have collected an documents.\n",
      "                  ^^^^^^^^^^^^\n"
     ]
    }
   ],
   "source": [
    "for m in my_matches2:\n",
    "    print(m)"
   ]
  },
  {
   "cell_type": "code",
   "execution_count": 17,
   "id": "2cf129be",
   "metadata": {},
   "outputs": [
    {
     "name": "stdout",
     "output_type": "stream",
     "text": [
      "Defaulting to user installation because normal site-packages is not writeable\n",
      "Collecting goslate\n",
      "  Using cached goslate-1.5.4.tar.gz (14 kB)\n",
      "  Preparing metadata (setup.py) ... \u001b[?25ldone\n",
      "\u001b[?25hCollecting futures\n",
      "  Using cached futures-3.0.5.tar.gz (25 kB)\n",
      "  Preparing metadata (setup.py) ... \u001b[?25lerror\n",
      "  \u001b[1;31merror\u001b[0m: \u001b[1msubprocess-exited-with-error\u001b[0m\n",
      "  \n",
      "  \u001b[31m×\u001b[0m \u001b[32mpython setup.py egg_info\u001b[0m did not run successfully.\n",
      "  \u001b[31m│\u001b[0m exit code: \u001b[1;36m1\u001b[0m\n",
      "  \u001b[31m╰─>\u001b[0m \u001b[31m[25 lines of output]\u001b[0m\n",
      "  \u001b[31m   \u001b[0m Traceback (most recent call last):\n",
      "  \u001b[31m   \u001b[0m   File \"<string>\", line 2, in <module>\n",
      "  \u001b[31m   \u001b[0m   File \"<pip-setuptools-caller>\", line 14, in <module>\n",
      "  \u001b[31m   \u001b[0m   File \"/usr/lib/python3/dist-packages/setuptools/__init__.py\", line 18, in <module>\n",
      "  \u001b[31m   \u001b[0m     from setuptools.dist import Distribution\n",
      "  \u001b[31m   \u001b[0m   File \"/usr/lib/python3/dist-packages/setuptools/dist.py\", line 31, in <module>\n",
      "  \u001b[31m   \u001b[0m     from setuptools.extern.more_itertools import unique_everseen\n",
      "  \u001b[31m   \u001b[0m   File \"<frozen importlib._bootstrap>\", line 1027, in _find_and_load\n",
      "  \u001b[31m   \u001b[0m   File \"<frozen importlib._bootstrap>\", line 1006, in _find_and_load_unlocked\n",
      "  \u001b[31m   \u001b[0m   File \"<frozen importlib._bootstrap>\", line 674, in _load_unlocked\n",
      "  \u001b[31m   \u001b[0m   File \"<frozen importlib._bootstrap>\", line 571, in module_from_spec\n",
      "  \u001b[31m   \u001b[0m   File \"/usr/lib/python3/dist-packages/setuptools/extern/__init__.py\", line 52, in create_module\n",
      "  \u001b[31m   \u001b[0m     return self.load_module(spec.name)\n",
      "  \u001b[31m   \u001b[0m   File \"/usr/lib/python3/dist-packages/setuptools/extern/__init__.py\", line 37, in load_module\n",
      "  \u001b[31m   \u001b[0m     __import__(extant)\n",
      "  \u001b[31m   \u001b[0m   File \"/usr/lib/python3/dist-packages/setuptools/_vendor/more_itertools/__init__.py\", line 1, in <module>\n",
      "  \u001b[31m   \u001b[0m     from .more import *  # noqa\n",
      "  \u001b[31m   \u001b[0m   File \"/usr/lib/python3/dist-packages/setuptools/_vendor/more_itertools/more.py\", line 5, in <module>\n",
      "  \u001b[31m   \u001b[0m     from concurrent.futures import ThreadPoolExecutor\n",
      "  \u001b[31m   \u001b[0m   File \"/tmp/pip-install-9gk1kvac/futures_02bf0e5a31f342c38f4153aee00b984c/concurrent/futures/__init__.py\", line 8, in <module>\n",
      "  \u001b[31m   \u001b[0m     from concurrent.futures._base import (FIRST_COMPLETED,\n",
      "  \u001b[31m   \u001b[0m   File \"/tmp/pip-install-9gk1kvac/futures_02bf0e5a31f342c38f4153aee00b984c/concurrent/futures/_base.py\", line 357\n",
      "  \u001b[31m   \u001b[0m     raise type(self._exception), self._exception, self._traceback\n",
      "  \u001b[31m   \u001b[0m                                ^\n",
      "  \u001b[31m   \u001b[0m SyntaxError: invalid syntax\n",
      "  \u001b[31m   \u001b[0m \u001b[31m[end of output]\u001b[0m\n",
      "  \n",
      "  \u001b[1;35mnote\u001b[0m: This error originates from a subprocess, and is likely not a problem with pip.\n",
      "\u001b[1;31merror\u001b[0m: \u001b[1mmetadata-generation-failed\u001b[0m\n",
      "\n",
      "\u001b[31m×\u001b[0m Encountered error while generating package metadata.\n",
      "\u001b[31m╰─>\u001b[0m See above for output.\n",
      "\n",
      "\u001b[1;35mnote\u001b[0m: This is an issue with the package mentioned above, not pip.\n",
      "\u001b[1;36mhint\u001b[0m: See above for details.\n",
      "\u001b[?25h"
     ]
    }
   ],
   "source": [
    "!pip install goslate"
   ]
  },
  {
   "cell_type": "code",
   "execution_count": 18,
   "id": "5c4c44f9",
   "metadata": {},
   "outputs": [
    {
     "ename": "ModuleNotFoundError",
     "evalue": "No module named 'goslate'",
     "output_type": "error",
     "traceback": [
      "\u001b[0;31m---------------------------------------------------------------------------\u001b[0m",
      "\u001b[0;31mModuleNotFoundError\u001b[0m                       Traceback (most recent call last)",
      "Cell \u001b[0;32mIn[18], line 1\u001b[0m\n\u001b[0;32m----> 1\u001b[0m \u001b[38;5;28;01mimport\u001b[39;00m \u001b[38;5;21;01mgoslate\u001b[39;00m\n",
      "\u001b[0;31mModuleNotFoundError\u001b[0m: No module named 'goslate'"
     ]
    }
   ],
   "source": [
    "import goslate"
   ]
  },
  {
   "cell_type": "code",
   "execution_count": 19,
   "id": "c4ba9038",
   "metadata": {},
   "outputs": [
    {
     "name": "stdout",
     "output_type": "stream",
     "text": [
      "Defaulting to user installation because normal site-packages is not writeable\n",
      "Collecting goslate\n",
      "  Using cached goslate-1.5.4.tar.gz (14 kB)\n",
      "  Preparing metadata (setup.py) ... \u001b[?25ldone\n",
      "\u001b[?25hCollecting futures\n",
      "  Using cached futures-3.0.5.tar.gz (25 kB)\n",
      "  Preparing metadata (setup.py) ... \u001b[?25lerror\n",
      "  \u001b[1;31merror\u001b[0m: \u001b[1msubprocess-exited-with-error\u001b[0m\n",
      "  \n",
      "  \u001b[31m×\u001b[0m \u001b[32mpython setup.py egg_info\u001b[0m did not run successfully.\n",
      "  \u001b[31m│\u001b[0m exit code: \u001b[1;36m1\u001b[0m\n",
      "  \u001b[31m╰─>\u001b[0m \u001b[31m[25 lines of output]\u001b[0m\n",
      "  \u001b[31m   \u001b[0m Traceback (most recent call last):\n",
      "  \u001b[31m   \u001b[0m   File \"<string>\", line 2, in <module>\n",
      "  \u001b[31m   \u001b[0m   File \"<pip-setuptools-caller>\", line 14, in <module>\n",
      "  \u001b[31m   \u001b[0m   File \"/usr/lib/python3/dist-packages/setuptools/__init__.py\", line 18, in <module>\n",
      "  \u001b[31m   \u001b[0m     from setuptools.dist import Distribution\n",
      "  \u001b[31m   \u001b[0m   File \"/usr/lib/python3/dist-packages/setuptools/dist.py\", line 31, in <module>\n",
      "  \u001b[31m   \u001b[0m     from setuptools.extern.more_itertools import unique_everseen\n",
      "  \u001b[31m   \u001b[0m   File \"<frozen importlib._bootstrap>\", line 1027, in _find_and_load\n",
      "  \u001b[31m   \u001b[0m   File \"<frozen importlib._bootstrap>\", line 1006, in _find_and_load_unlocked\n",
      "  \u001b[31m   \u001b[0m   File \"<frozen importlib._bootstrap>\", line 674, in _load_unlocked\n",
      "  \u001b[31m   \u001b[0m   File \"<frozen importlib._bootstrap>\", line 571, in module_from_spec\n",
      "  \u001b[31m   \u001b[0m   File \"/usr/lib/python3/dist-packages/setuptools/extern/__init__.py\", line 52, in create_module\n",
      "  \u001b[31m   \u001b[0m     return self.load_module(spec.name)\n",
      "  \u001b[31m   \u001b[0m   File \"/usr/lib/python3/dist-packages/setuptools/extern/__init__.py\", line 37, in load_module\n",
      "  \u001b[31m   \u001b[0m     __import__(extant)\n",
      "  \u001b[31m   \u001b[0m   File \"/usr/lib/python3/dist-packages/setuptools/_vendor/more_itertools/__init__.py\", line 1, in <module>\n",
      "  \u001b[31m   \u001b[0m     from .more import *  # noqa\n",
      "  \u001b[31m   \u001b[0m   File \"/usr/lib/python3/dist-packages/setuptools/_vendor/more_itertools/more.py\", line 5, in <module>\n",
      "  \u001b[31m   \u001b[0m     from concurrent.futures import ThreadPoolExecutor\n",
      "  \u001b[31m   \u001b[0m   File \"/tmp/pip-install-sbtjmq6o/futures_a21d116800c54fd88b59095f2b20da45/concurrent/futures/__init__.py\", line 8, in <module>\n",
      "  \u001b[31m   \u001b[0m     from concurrent.futures._base import (FIRST_COMPLETED,\n",
      "  \u001b[31m   \u001b[0m   File \"/tmp/pip-install-sbtjmq6o/futures_a21d116800c54fd88b59095f2b20da45/concurrent/futures/_base.py\", line 357\n",
      "  \u001b[31m   \u001b[0m     raise type(self._exception), self._exception, self._traceback\n",
      "  \u001b[31m   \u001b[0m                                ^\n",
      "  \u001b[31m   \u001b[0m SyntaxError: invalid syntax\n",
      "  \u001b[31m   \u001b[0m \u001b[31m[end of output]\u001b[0m\n",
      "  \n",
      "  \u001b[1;35mnote\u001b[0m: This error originates from a subprocess, and is likely not a problem with pip.\n",
      "\u001b[1;31merror\u001b[0m: \u001b[1mmetadata-generation-failed\u001b[0m\n",
      "\n",
      "\u001b[31m×\u001b[0m Encountered error while generating package metadata.\n",
      "\u001b[31m╰─>\u001b[0m See above for output.\n",
      "\n",
      "\u001b[1;35mnote\u001b[0m: This is an issue with the package mentioned above, not pip.\n",
      "\u001b[1;36mhint\u001b[0m: See above for details.\n",
      "\u001b[?25h"
     ]
    }
   ],
   "source": [
    "!pip install goslate"
   ]
  },
  {
   "cell_type": "code",
   "execution_count": null,
   "id": "3865d98f",
   "metadata": {},
   "outputs": [],
   "source": []
  }
 ],
 "metadata": {
  "kernelspec": {
   "display_name": "Python 3 (ipykernel)",
   "language": "python",
   "name": "python3"
  },
  "language_info": {
   "codemirror_mode": {
    "name": "ipython",
    "version": 3
   },
   "file_extension": ".py",
   "mimetype": "text/x-python",
   "name": "python",
   "nbconvert_exporter": "python",
   "pygments_lexer": "ipython3",
   "version": "3.10.6"
  }
 },
 "nbformat": 4,
 "nbformat_minor": 5
}
