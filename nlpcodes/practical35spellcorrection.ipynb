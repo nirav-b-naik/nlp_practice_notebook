{
 "cells": [
  {
   "cell_type": "code",
   "execution_count": 1,
   "id": "342bdbe5",
   "metadata": {},
   "outputs": [],
   "source": [
    "from textblob import TextBlob"
   ]
  },
  {
   "cell_type": "code",
   "execution_count": 2,
   "id": "e54244e5",
   "metadata": {},
   "outputs": [],
   "source": [
    "word = \"KOMPUTAR\""
   ]
  },
  {
   "cell_type": "code",
   "execution_count": 3,
   "id": "e570d0e2",
   "metadata": {},
   "outputs": [],
   "source": [
    "t = TextBlob(word.lower())"
   ]
  },
  {
   "cell_type": "code",
   "execution_count": 4,
   "id": "8ac67fee",
   "metadata": {},
   "outputs": [
    {
     "data": {
      "text/plain": [
       "'computer'"
      ]
     },
     "execution_count": 4,
     "metadata": {},
     "output_type": "execute_result"
    }
   ],
   "source": [
    "str(t.correct())"
   ]
  },
  {
   "cell_type": "code",
   "execution_count": 5,
   "id": "7069f793",
   "metadata": {},
   "outputs": [],
   "source": [
    "sent = \"It was a graet day. When they playd on the gruond.\""
   ]
  },
  {
   "cell_type": "code",
   "execution_count": 6,
   "id": "d1291fe8",
   "metadata": {},
   "outputs": [
    {
     "name": "stdout",
     "output_type": "stream",
     "text": [
      "3\n"
     ]
    },
    {
     "data": {
      "text/plain": [
       "'it was a great day. when they play on the ground.'"
      ]
     },
     "execution_count": 6,
     "metadata": {},
     "output_type": "execute_result"
    }
   ],
   "source": [
    "lst = []\n",
    "for word in sent.split():\n",
    "    t = TextBlob(word.lower())\n",
    "    lst.append(str(t.correct()))\n",
    "cnt = 0\n",
    "for corr,err in zip(lst,sent.split()):\n",
    "    if corr!=err.lower():\n",
    "        cnt = cnt + 1\n",
    "\n",
    "print(cnt)\n",
    "\" \".join(lst)"
   ]
  },
  {
   "cell_type": "code",
   "execution_count": null,
   "id": "f505ba44",
   "metadata": {},
   "outputs": [],
   "source": []
  },
  {
   "cell_type": "code",
   "execution_count": null,
   "id": "bf22ce6a",
   "metadata": {},
   "outputs": [],
   "source": []
  }
 ],
 "metadata": {
  "kernelspec": {
   "display_name": "Python 3 (ipykernel)",
   "language": "python",
   "name": "python3"
  },
  "language_info": {
   "codemirror_mode": {
    "name": "ipython",
    "version": 3
   },
   "file_extension": ".py",
   "mimetype": "text/x-python",
   "name": "python",
   "nbconvert_exporter": "python",
   "pygments_lexer": "ipython3",
   "version": "3.10.6"
  }
 },
 "nbformat": 4,
 "nbformat_minor": 5
}
