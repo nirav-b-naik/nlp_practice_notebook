{
 "cells": [
  {
   "cell_type": "markdown",
   "id": "3e17039a",
   "metadata": {},
   "source": [
    "## Web_Scraping_from_Wikipedia"
   ]
  },
  {
   "cell_type": "markdown",
   "id": "e0979ee3",
   "metadata": {},
   "source": [
    "### <b><u> In this notebook we are using *urllib* and *BeautifulSoup* modules to scap from *wikipedia* and *nltk* module to find most frequent words."
   ]
  },
  {
   "cell_type": "markdown",
   "id": "69a94ff7",
   "metadata": {},
   "source": [
    "### <b><u>Note: This web scraping notebook is only for study purpose. Kindly refer copyrights document of website before using this scraping notebook."
   ]
  },
  {
   "cell_type": "markdown",
   "id": "708e3a01",
   "metadata": {},
   "source": [
    "<b><u>Importing Libraries and functions"
   ]
  },
  {
   "cell_type": "code",
   "execution_count": 1,
   "id": "1dcfa4bf",
   "metadata": {},
   "outputs": [],
   "source": [
    "# Tool for Web Scraping\n",
    "import urllib\n",
    "\n",
    "# For formating the web page for human readable format\n",
    "from bs4 import BeautifulSoup\n",
    "\n",
    "# Stop words remove\n",
    "from nltk.corpus import stopwords\n",
    "\n",
    "# Word tokenizer\n",
    "from nltk.tokenize import word_tokenize\n",
    "\n",
    "# To remove punctuation\n",
    "import string\n",
    "\n",
    "# To convert word to root form\n",
    "from nltk.stem import WordNetLemmatizer\n",
    "\n",
    "# Wor POS Tags\n",
    "from nltk.tag import pos_tag\n",
    "\n",
    "# Word frequency distribution\n",
    "from nltk import FreqDist"
   ]
  },
  {
   "cell_type": "markdown",
   "id": "8f6a7a58",
   "metadata": {},
   "source": [
    "<b><u>Web page link for Web Scraping and reading the data"
   ]
  },
  {
   "cell_type": "markdown",
   "id": "8704aeaf",
   "metadata": {},
   "source": [
    "* Enter the page URL.\n",
    "* urllib will fetch data from link and will read it.\n",
    "* BeautifulSoup will convert lxml format to human readable format."
   ]
  },
  {
   "cell_type": "code",
   "execution_count": 2,
   "id": "f0ba3b72",
   "metadata": {},
   "outputs": [],
   "source": [
    "url_link = \"https://en.wikipedia.org/wiki/Tiger\""
   ]
  },
  {
   "cell_type": "code",
   "execution_count": 3,
   "id": "29f560bd",
   "metadata": {},
   "outputs": [],
   "source": [
    "html = urllib.request.urlopen(url_link)"
   ]
  },
  {
   "cell_type": "code",
   "execution_count": 4,
   "id": "4952d45a",
   "metadata": {},
   "outputs": [],
   "source": [
    "data = html.read()"
   ]
  },
  {
   "cell_type": "code",
   "execution_count": 5,
   "id": "4b87a462",
   "metadata": {},
   "outputs": [],
   "source": [
    "soup = BeautifulSoup(data,'lxml')"
   ]
  },
  {
   "cell_type": "code",
   "execution_count": 6,
   "id": "02a58a1c",
   "metadata": {},
   "outputs": [],
   "source": [
    "data = soup.get_text()"
   ]
  },
  {
   "cell_type": "markdown",
   "id": "29c6807e",
   "metadata": {},
   "source": [
    "<b><u>Cleaning the data by word tokenization, Lemmmatization and POS-Taging and removing Stopwords"
   ]
  },
  {
   "cell_type": "markdown",
   "id": "e03d8c2d",
   "metadata": {},
   "source": [
    "* Convert data to tokens.\n",
    "* pos_tag use to collect NN, NNS, NNP, NNPS words from tokens.\n",
    "* Convert words to root forms using word lammetization.\n",
    "* Remove stopwords and punctuation from the words.\n",
    "* Freqdist calculate word frequency and generate the plot."
   ]
  },
  {
   "cell_type": "code",
   "execution_count": 7,
   "id": "19597f63",
   "metadata": {},
   "outputs": [],
   "source": [
    "tokens = word_tokenize(data)"
   ]
  },
  {
   "cell_type": "code",
   "execution_count": 8,
   "id": "a95a7fe0",
   "metadata": {},
   "outputs": [],
   "source": [
    "wnl = WordNetLemmatizer()"
   ]
  },
  {
   "cell_type": "code",
   "execution_count": 9,
   "id": "0c8f4b49",
   "metadata": {},
   "outputs": [],
   "source": [
    "swords = stopwords.words('english')"
   ]
  },
  {
   "cell_type": "code",
   "execution_count": 10,
   "id": "194d9752",
   "metadata": {},
   "outputs": [],
   "source": [
    "tags=pos_tag(tokens)"
   ]
  },
  {
   "cell_type": "code",
   "execution_count": 11,
   "id": "928ed6b9",
   "metadata": {},
   "outputs": [],
   "source": [
    "nwords=list()\n",
    "\n",
    "for word,tag in tags:\n",
    "    if tag.startswith('N'):\n",
    "        nwords.append(word)"
   ]
  },
  {
   "cell_type": "code",
   "execution_count": 12,
   "id": "b043156b",
   "metadata": {},
   "outputs": [],
   "source": [
    "wlist=list()\n",
    "\n",
    "wlist = [(wnl.lemmatize(word,'n')).title() for word in nwords if word.isalnum() and word.lower() not in swords]"
   ]
  },
  {
   "cell_type": "code",
   "execution_count": 13,
   "id": "f1ec07fe",
   "metadata": {},
   "outputs": [],
   "source": [
    "freq1=FreqDist(wlist)"
   ]
  },
  {
   "cell_type": "code",
   "execution_count": 14,
   "id": "6277e712",
   "metadata": {},
   "outputs": [
    {
     "data": {
      "text/plain": [
       "FreqDist({'Tiger': 475, 'Panthera': 63, 'Tigris': 63, 'Population': 63, 'India': 61, 'Isbn': 57, 'Conservation': 55, 'B': 53, 'Cat': 46, 'Tigers': 44, ...})"
      ]
     },
     "execution_count": 14,
     "metadata": {},
     "output_type": "execute_result"
    }
   ],
   "source": [
    "freq1"
   ]
  },
  {
   "cell_type": "code",
   "execution_count": 15,
   "id": "57a3116a",
   "metadata": {},
   "outputs": [
    {
     "data": {
      "image/png": "[encoded data removed]",
      "text/plain": [
       "<Figure size 640x480 with 1 Axes>"
      ]
     },
     "metadata": {},
     "output_type": "display_data"
    },
    {
     "data": {
      "text/plain": [
       "<Axes: xlabel='Samples', ylabel='Counts'>"
      ]
     },
     "execution_count": 15,
     "metadata": {},
     "output_type": "execute_result"
    }
   ],
   "source": [
    "freq1.plot(10)"
   ]
  },
  {
   "cell_type": "code",
   "execution_count": null,
   "id": "dd4db732",
   "metadata": {},
   "outputs": [],
   "source": []
  }
 ],
 "metadata": {
  "kernelspec": {
   "display_name": "Python 3 (ipykernel)",
   "language": "python",
   "name": "python3"
  },
  "language_info": {
   "codemirror_mode": {
    "name": "ipython",
    "version": 3
   },
   "file_extension": ".py",
   "mimetype": "text/x-python",
   "name": "python",
   "nbconvert_exporter": "python",
   "pygments_lexer": "ipython3",
   "version": "3.10.6"
  }
 },
 "nbformat": 4,
 "nbformat_minor": 5
}
