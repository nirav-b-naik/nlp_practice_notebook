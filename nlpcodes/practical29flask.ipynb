{
 "cells": [
  {
   "cell_type": "code",
   "execution_count": 1,
   "id": "dc659b5a",
   "metadata": {},
   "outputs": [],
   "source": [
    "from flask import Flask, redirect, url_for, request,render_template"
   ]
  },
  {
   "cell_type": "code",
   "execution_count": 2,
   "id": "da12c246",
   "metadata": {},
   "outputs": [],
   "source": [
    "# app = Flask(__name__)\n",
    "\n",
    "# @app.route(\"/hello\")\n",
    "\n",
    "# def hello_world():\n",
    "#     return(\"Hello World!!!\")\n",
    "\n",
    "# if __name__==\"__main__\":\n",
    "#     app.run(port=2022)"
   ]
  },
  {
   "cell_type": "code",
   "execution_count": null,
   "id": "cc9a3146",
   "metadata": {},
   "outputs": [
    {
     "name": "stdout",
     "output_type": "stream",
     "text": [
      " * Serving Flask app '__main__'\n",
      " * Debug mode: off\n"
     ]
    },
    {
     "name": "stderr",
     "output_type": "stream",
     "text": [
      "WARNING: This is a development server. Do not use it in a production deployment. Use a production WSGI server instead.\n",
      " * Running on http://127.0.0.1:5000\n",
      "Press CTRL+C to quit\n",
      "127.0.0.1 - - [26/Dec/2022 10:28:54] \"POST /login HTTP/1.1\" 302 -\n",
      "127.0.0.1 - - [26/Dec/2022 10:28:54] \"GET /success/Nirav%20Naik HTTP/1.1\" 200 -\n"
     ]
    }
   ],
   "source": [
    "app = Flask(__name__)\n",
    "\n",
    "@app.route(\"/success/<name>\")\n",
    "def success(name):\n",
    "    return \"Bam Bam Bhole %s\" %name\n",
    "\n",
    "@app.route(\"/login\", methods = ['post','get'])\n",
    "def login():\n",
    "    user = request.form['name']\n",
    "    return redirect(url_for('success', name = user))\n",
    "\n",
    "if __name__==\"__main__\":\n",
    "    app.run(port=5000)"
   ]
  },
  {
   "cell_type": "code",
   "execution_count": null,
   "id": "d7c00d29",
   "metadata": {},
   "outputs": [],
   "source": [
    "# app = Flask(__name__)\n",
    "\n",
    "# @app.route(\"/\")\n",
    "# def index():\n",
    "#     return render_template('helloworld.html')\n",
    "\n",
    "# if __name__==\"__main__\":\n",
    "#     app.run()"
   ]
  },
  {
   "cell_type": "code",
   "execution_count": null,
   "id": "d16c82b9",
   "metadata": {},
   "outputs": [],
   "source": []
  },
  {
   "cell_type": "code",
   "execution_count": null,
   "id": "fcfcd18a",
   "metadata": {},
   "outputs": [],
   "source": []
  },
  {
   "cell_type": "code",
   "execution_count": null,
   "id": "577f8519",
   "metadata": {},
   "outputs": [],
   "source": []
  }
 ],
 "metadata": {
  "kernelspec": {
   "display_name": "Python 3 (ipykernel)",
   "language": "python",
   "name": "python3"
  },
  "language_info": {
   "codemirror_mode": {
    "name": "ipython",
    "version": 3
   },
   "file_extension": ".py",
   "mimetype": "text/x-python",
   "name": "python",
   "nbconvert_exporter": "python",
   "pygments_lexer": "ipython3",
   "version": "3.10.6"
  }
 },
 "nbformat": 4,
 "nbformat_minor": 5
}
