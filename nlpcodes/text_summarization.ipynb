{
 "cells": [
  {
   "cell_type": "markdown",
   "id": "ad476841",
   "metadata": {},
   "source": [
    "## Text_Summarization"
   ]
  },
  {
   "cell_type": "markdown",
   "id": "e0979ee3",
   "metadata": {},
   "source": [
    "### <b><u> In this notebook we will try two types of summarizer.\n",
    "<b><u>1. Extractive Summarizer, from sumy module </b></u>\n",
    "    \n",
    "<b><u>2. Abstractive Summarizer, from transformers GPT2 model"
   ]
  },
  {
   "cell_type": "markdown",
   "id": "142907b8",
   "metadata": {},
   "source": [
    "### 1. Extractive Summarizer"
   ]
  },
  {
   "cell_type": "markdown",
   "id": "6e51ea4d",
   "metadata": {},
   "source": [
    "<b><u> This paragrah was used for summarization.</b></u>\n",
    "\n",
    "<b>text1:</b> \"\"\"The Amazon River (UK: /ˈæməzən/, US: /ˈæməzɒn/; Spanish: Río Amazonas, Portuguese: Rio Amazonas) in South America is the largest river by discharge volume of water in the world, and the disputed longest river system in the world in comparison to the Nile.[2][16][n 2]\n",
    "\n",
    "The headwaters of the Apurímac River on Nevado Mismi had been considered for nearly a century as the Amazon basin's most distant source, until a 2014 study found it to be the headwaters of the Mantaro River on the Cordillera Rumi Cruz in Peru.[21] The Mantaro and Apurímac rivers join, and with other tributaries form the Ucayali River, which in turn meets the Marañón River upstream of Iquitos, Peru, forming what countries other than Brazil consider to be the main stem of the Amazon. Brazilians call this section the Solimões River above its confluence with the Rio Negro[22] forming what Brazilians call the Amazon at the Meeting of Waters (Portuguese: Encontro das Águas) at Manaus, the largest city on the river.\n",
    "\n",
    "The Amazon River has an average discharge of about 215,000 m3/s (7,600,000 cu ft/s)–230,000 m3/s (8,100,000 cu ft/s)—approximately 6,591 km3 (1,581 cu mi)– 7,570 km3 (1,820 cu mi) per year, greater than the next seven largest independent rivers combined. Two of the top ten rivers by discharge are tributaries of the Amazon river. The Amazon represents 20% of the global riverine discharge into oceans.[23] The Amazon basin is the largest drainage basin in the world, with an area of approximately 7,000,000 km2 (2,700,000 sq mi).[2] The portion of the river's drainage basin in Brazil alone is larger than any other river's basin. The Amazon enters Brazil with only one-fifth of the flow it finally discharges into the Atlantic Ocean, yet already has a greater flow at this point than the discharge of any other river.The Amazon was initially known by Europeans as the Marañón, and the Peruvian part of the river is still known by that name today. It later became known as Rio Amazonas in Spanish and Portuguese.\n",
    "\n",
    "The name Rio Amazonas was reportedly given after native warriors attacked a 16th-century expedition by Francisco de Orellana. The warriors were led by women, reminding de Orellana of the Amazon warriors, a tribe of women warriors related to Iranian Scythians and Sarmatians[26][27] mentioned in Greek mythology. The word Amazon itself may be derived from the Iranian compound *ha-maz-an- \"(one) fighting together\"[28] or ethnonym *ha-mazan- \"warriors\", a word attested indirectly through a derivation, a denominal verb in Hesychius of Alexandria's gloss \"ἁμαζακάραν· πολεμεῖν. Πέρσαι\" (\"hamazakaran: 'to make war' in Persian\"), where it appears together with the Indo-Iranian root *kar- \"make\" (from which Sanskrit karma is also derived).[29]\n",
    "\n",
    "Other scholars[who?] claim that the name is derived from the Tupi word amassona, meaning \"boat destroyer\"/\"\"\""
   ]
  },
  {
   "cell_type": "code",
   "execution_count": 1,
   "id": "d5319301",
   "metadata": {},
   "outputs": [],
   "source": [
    "text1 = \"\"\"The Amazon River (UK: /ˈæməzən/, US: /ˈæməzɒn/; Spanish: Río Amazonas, Portuguese: Rio Amazonas) in South America is the largest river by discharge volume of water in the world, and the disputed longest river system in the world in comparison to the Nile.[2][16][n 2]\n",
    "\n",
    "The headwaters of the Apurímac River on Nevado Mismi had been considered for nearly a century as the Amazon basin's most distant source, until a 2014 study found it to be the headwaters of the Mantaro River on the Cordillera Rumi Cruz in Peru.[21] The Mantaro and Apurímac rivers join, and with other tributaries form the Ucayali River, which in turn meets the Marañón River upstream of Iquitos, Peru, forming what countries other than Brazil consider to be the main stem of the Amazon. Brazilians call this section the Solimões River above its confluence with the Rio Negro[22] forming what Brazilians call the Amazon at the Meeting of Waters (Portuguese: Encontro das Águas) at Manaus, the largest city on the river.\n",
    "\n",
    "The Amazon River has an average discharge of about 215,000 m3/s (7,600,000 cu ft/s)–230,000 m3/s (8,100,000 cu ft/s)—approximately 6,591 km3 (1,581 cu mi)– 7,570 km3 (1,820 cu mi) per year, greater than the next seven largest independent rivers combined. Two of the top ten rivers by discharge are tributaries of the Amazon river. The Amazon represents 20% of the global riverine discharge into oceans.[23] The Amazon basin is the largest drainage basin in the world, with an area of approximately 7,000,000 km2 (2,700,000 sq mi).[2] The portion of the river's drainage basin in Brazil alone is larger than any other river's basin. The Amazon enters Brazil with only one-fifth of the flow it finally discharges into the Atlantic Ocean, yet already has a greater flow at this point than the discharge of any other river.The Amazon was initially known by Europeans as the Marañón, and the Peruvian part of the river is still known by that name today. It later became known as Rio Amazonas in Spanish and Portuguese.\n",
    "\n",
    "The name Rio Amazonas was reportedly given after native warriors attacked a 16th-century expedition by Francisco de Orellana. The warriors were led by women, reminding de Orellana of the Amazon warriors, a tribe of women warriors related to Iranian Scythians and Sarmatians[26][27] mentioned in Greek mythology. The word Amazon itself may be derived from the Iranian compound *ha-maz-an- \"(one) fighting together\"[28] or ethnonym *ha-mazan- \"warriors\", a word attested indirectly through a derivation, a denominal verb in Hesychius of Alexandria's gloss \"ἁμαζακάραν· πολεμεῖν. Πέρσαι\" (\"hamazakaran: 'to make war' in Persian\"), where it appears together with the Indo-Iranian root *kar- \"make\" (from which Sanskrit karma is also derived).[29]\n",
    "\n",
    "Other scholars[who?] claim that the name is derived from the Tupi word amassona, meaning \"boat destroyer\"/\"\"\""
   ]
  },
  {
   "cell_type": "markdown",
   "id": "4bc1abfb",
   "metadata": {},
   "source": [
    "<b>text2:</b> \"\"\"L'Amazone (en espagnol Río Amazonas, en portugais Rio Amazonas2) est un fleuve d'Amérique du Sud. C'est le plus puissant fleuve du monde : son débit moyen estimé à l'estuaire — de 209 000 m3/s pour la période 1973-19903 — est de loin le plus élevé de celui de tous les fleuves de la planète et il équivaut au volume cumulé des six fleuves qui le suivent immédiatement dans l'ordre des débits. À elle seuleβ, l'Amazone représente d'ailleurs environ un cinquième du débit fluvial du monde entier4.\n",
    "\n",
    "Avec ses 7 025 km5 (dans sa branche Apurímac-Ucayali6), c'est le plus long fleuve de la Terre avec le Nilα.\n",
    "\n",
    "L'Amazone est aussi le plus grand fleuve par l'immensité de son bassin. Il draine une surface de 6 112 000 km2 (sans le rio Tocantins) soit 40 % de l'Amérique du Sud et l'équivalent d'une fois et demie la surface de l'Union européenne (le Congo, deuxième fleuve pour la superficie de son bassin, atteint \"seulement\" 3,8 millions de km2). Le bassin de l'Amazone s'étend des latitudes 5° nord jusqu’à 20° sud. Le fleuve prend sa source dans la cordillère des Andes, traverse le Pérou, la Colombie et le Brésil, et se jette dans l'océan Atlantique au niveau de l'équateur.\"\"\""
   ]
  },
  {
   "cell_type": "code",
   "execution_count": 2,
   "id": "382f7b58",
   "metadata": {},
   "outputs": [],
   "source": [
    "text2 = \"\"\"L'Amazone (en espagnol Río Amazonas, en portugais Rio Amazonas2) est un fleuve d'Amérique du Sud. C'est le plus puissant fleuve du monde : son débit moyen estimé à l'estuaire — de 209 000 m3/s pour la période 1973-19903 — est de loin le plus élevé de celui de tous les fleuves de la planète et il équivaut au volume cumulé des six fleuves qui le suivent immédiatement dans l'ordre des débits. À elle seuleβ, l'Amazone représente d'ailleurs environ un cinquième du débit fluvial du monde entier4.\n",
    "\n",
    "Avec ses 7 025 km5 (dans sa branche Apurímac-Ucayali6), c'est le plus long fleuve de la Terre avec le Nilα.\n",
    "\n",
    "L'Amazone est aussi le plus grand fleuve par l'immensité de son bassin. Il draine une surface de 6 112 000 km2 (sans le rio Tocantins) soit 40 % de l'Amérique du Sud et l'équivalent d'une fois et demie la surface de l'Union européenne (le Congo, deuxième fleuve pour la superficie de son bassin, atteint \"seulement\" 3,8 millions de km2). Le bassin de l'Amazone s'étend des latitudes 5° nord jusqu’à 20° sud. Le fleuve prend sa source dans la cordillère des Andes, traverse le Pérou, la Colombie et le Brésil, et se jette dans l'océan Atlantique au niveau de l'équateur.\"\"\""
   ]
  },
  {
   "cell_type": "markdown",
   "id": "112e43fb",
   "metadata": {},
   "source": [
    "### 1.1 TextRankSummarizer"
   ]
  },
  {
   "cell_type": "code",
   "execution_count": 3,
   "id": "d655a081",
   "metadata": {},
   "outputs": [],
   "source": [
    "# Import the LexRank summarizer\n",
    "from sumy.summarizers.text_rank import TextRankSummarizer\n",
    "\n",
    "# Importing the parser and tokenizer\n",
    "from sumy.parsers.plaintext import PlaintextParser\n",
    "from sumy.nlp.tokenizers import Tokenizer"
   ]
  },
  {
   "cell_type": "code",
   "execution_count": 4,
   "id": "e4de4260",
   "metadata": {},
   "outputs": [],
   "source": [
    "# Initializing th parser\n",
    "\n",
    "my_parser_text1 = PlaintextParser.from_string(text1, Tokenizer(\"english\"))\n",
    "\n",
    "my_parser_text2 = PlaintextParser.from_string(text2, Tokenizer(\"french\"))"
   ]
  },
  {
   "cell_type": "code",
   "execution_count": 5,
   "id": "289d7303",
   "metadata": {},
   "outputs": [],
   "source": [
    "# Creating a summary of 3 sentences\n",
    "text_rank_summarizer = TextRankSummarizer()\n",
    "\n",
    "summary_text1 = text_rank_summarizer(my_parser_text1.document, sentences_count=3)\n",
    "\n",
    "summary_text2 = text_rank_summarizer(my_parser_text2.document, sentences_count=3)"
   ]
  },
  {
   "cell_type": "code",
   "execution_count": 6,
   "id": "d29ad630",
   "metadata": {},
   "outputs": [
    {
     "data": {
      "text/plain": [
       "(<Sentence: The Amazon River (UK: /ˈæməzən/, US: /ˈæməzɒn/; Spanish: Río Amazonas, Portuguese: Rio Amazonas) in South America is the largest river by discharge volume of water in the world, and the disputed longest river system in the world in comparison to the Nile.>,\n",
       " <Sentence: The headwaters of the Apurímac River on Nevado Mismi had been considered for nearly a century as the Amazon basin's most distant source, until a 2014 study found it to be the headwaters of the Mantaro River on the Cordillera Rumi Cruz in Peru.>,\n",
       " <Sentence: The Amazon enters Brazil with only one-fifth of the flow it finally discharges into the Atlantic Ocean, yet already has a greater flow at this point than the discharge of any other river.The Amazon was initially known by Europeans as the Marañón, and the Peruvian part of the river is still known by that name today.>)"
      ]
     },
     "execution_count": 6,
     "metadata": {},
     "output_type": "execute_result"
    }
   ],
   "source": [
    "summary_text1"
   ]
  },
  {
   "cell_type": "code",
   "execution_count": 7,
   "id": "317689d3",
   "metadata": {},
   "outputs": [
    {
     "data": {
      "text/plain": [
       "(<Sentence: C'est le plus puissant fleuve du monde : son débit moyen estimé à l'estuaire — de 209 000 m3/s pour la période 1973-19903 — est de loin le plus élevé de celui de tous les fleuves de la planète et il équivaut au volume cumulé des six fleuves qui le suivent immédiatement dans l'ordre des débits.>,\n",
       " <Sentence: Il draine une surface de 6 112 000 km2 (sans le rio Tocantins) soit 40 % de l'Amérique du Sud et l'équivalent d'une fois et demie la surface de l'Union européenne (le Congo, deuxième fleuve pour la superficie de son bassin, atteint \"seulement\" 3,8 millions de km2).>,\n",
       " <Sentence: Le fleuve prend sa source dans la cordillère des Andes, traverse le Pérou, la Colombie et le Brésil, et se jette dans l'océan Atlantique au niveau de l'équateur.>)"
      ]
     },
     "execution_count": 7,
     "metadata": {},
     "output_type": "execute_result"
    }
   ],
   "source": [
    "summary_text2"
   ]
  },
  {
   "cell_type": "markdown",
   "id": "162bc4c8",
   "metadata": {},
   "source": [
    "### 1.2 LexRankSummarizer"
   ]
  },
  {
   "cell_type": "code",
   "execution_count": 8,
   "id": "09924c6b",
   "metadata": {},
   "outputs": [],
   "source": [
    "# Import the Lex Summarizer\n",
    "from sumy.summarizers.lex_rank import LexRankSummarizer"
   ]
  },
  {
   "cell_type": "code",
   "execution_count": 9,
   "id": "d93c41a7",
   "metadata": {},
   "outputs": [],
   "source": [
    "# Creating a summary of 3 sentences\n",
    "lex_rank_summarizer = LexRankSummarizer()\n",
    "\n",
    "summary_text1 = lex_rank_summarizer(my_parser_text1.document, sentences_count=3)\n",
    "\n",
    "summary_text2 = lex_rank_summarizer(my_parser_text2.document, sentences_count=3)"
   ]
  },
  {
   "cell_type": "code",
   "execution_count": 10,
   "id": "88a53a13",
   "metadata": {},
   "outputs": [
    {
     "data": {
      "text/plain": [
       "(<Sentence: [21] The Mantaro and Apurímac rivers join, and with other tributaries form the Ucayali River, which in turn meets the Marañón River upstream of Iquitos, Peru, forming what countries other than Brazil consider to be the main stem of the Amazon.>,\n",
       " <Sentence: [23] The Amazon basin is the largest drainage basin in the world, with an area of approximately 7,000,000 km2 (2,700,000 sq mi).>,\n",
       " <Sentence: The name Rio Amazonas was reportedly given after native warriors attacked a 16th-century expedition by Francisco de Orellana.>)"
      ]
     },
     "execution_count": 10,
     "metadata": {},
     "output_type": "execute_result"
    }
   ],
   "source": [
    "summary_text1"
   ]
  },
  {
   "cell_type": "code",
   "execution_count": 11,
   "id": "24b8daa0",
   "metadata": {},
   "outputs": [
    {
     "data": {
      "text/plain": [
       "(<Sentence: L'Amazone (en espagnol Río Amazonas, en portugais Rio Amazonas2) est un fleuve d'Amérique du Sud.>,\n",
       " <Sentence: C'est le plus puissant fleuve du monde : son débit moyen estimé à l'estuaire — de 209 000 m3/s pour la période 1973-19903 — est de loin le plus élevé de celui de tous les fleuves de la planète et il équivaut au volume cumulé des six fleuves qui le suivent immédiatement dans l'ordre des débits.>,\n",
       " <Sentence: À elle seuleβ, l'Amazone représente d'ailleurs environ un cinquième du débit fluvial du monde entier4.>)"
      ]
     },
     "execution_count": 11,
     "metadata": {},
     "output_type": "execute_result"
    }
   ],
   "source": [
    "summary_text2"
   ]
  },
  {
   "cell_type": "markdown",
   "id": "950cdb42",
   "metadata": {},
   "source": [
    "### 1.3 LSA"
   ]
  },
  {
   "cell_type": "code",
   "execution_count": 12,
   "id": "a5eca198",
   "metadata": {},
   "outputs": [],
   "source": [
    "from sumy.summarizers.lsa import LsaSummarizer"
   ]
  },
  {
   "cell_type": "code",
   "execution_count": 13,
   "id": "acae914d",
   "metadata": {},
   "outputs": [],
   "source": [
    "# Creating a summary of 3 sentences\n",
    "lsa_summarizer = LsaSummarizer()\n",
    "\n",
    "summary_text1 = lsa_summarizer(my_parser_text1.document,sentences_count=3)\n",
    "\n",
    "summary_text2 = lsa_summarizer(my_parser_text2.document,sentences_count=3)"
   ]
  },
  {
   "cell_type": "code",
   "execution_count": 14,
   "id": "ebe7b2d2",
   "metadata": {},
   "outputs": [
    {
     "data": {
      "text/plain": [
       "(<Sentence: It later became known as Rio Amazonas in Spanish and Portuguese.>,\n",
       " <Sentence: The name Rio Amazonas was reportedly given after native warriors attacked a 16th-century expedition by Francisco de Orellana.>,\n",
       " <Sentence: Πέρσαι\" (\"hamazakaran: 'to make war' in Persian\"), where it appears together with the Indo-Iranian root *kar- \"make\" (from which Sanskrit karma is also derived).>)"
      ]
     },
     "execution_count": 14,
     "metadata": {},
     "output_type": "execute_result"
    }
   ],
   "source": [
    "summary_text1"
   ]
  },
  {
   "cell_type": "code",
   "execution_count": 15,
   "id": "49c5156f",
   "metadata": {},
   "outputs": [
    {
     "data": {
      "text/plain": [
       "(<Sentence: L'Amazone est aussi le plus grand fleuve par l'immensité de son bassin.>,\n",
       " <Sentence: Le bassin de l'Amazone s'étend des latitudes 5° nord jusqu’à 20° sud.>,\n",
       " <Sentence: Le fleuve prend sa source dans la cordillère des Andes, traverse le Pérou, la Colombie et le Brésil, et se jette dans l'océan Atlantique au niveau de l'équateur.>)"
      ]
     },
     "execution_count": 15,
     "metadata": {},
     "output_type": "execute_result"
    }
   ],
   "source": [
    "summary_text2"
   ]
  },
  {
   "cell_type": "markdown",
   "id": "bca760b0",
   "metadata": {},
   "source": [
    "### 2. Abstractive Summarizer"
   ]
  },
  {
   "cell_type": "markdown",
   "id": "36b755f2",
   "metadata": {},
   "source": [
    "### 2.1 GPT2Tokenizer,GPT2LMHeadModel"
   ]
  },
  {
   "cell_type": "code",
   "execution_count": 16,
   "id": "2a83691b",
   "metadata": {},
   "outputs": [],
   "source": [
    "#Importing model asnd tokenizer\n",
    "from transformers import GPT2Tokenizer,GPT2LMHeadModel"
   ]
  },
  {
   "cell_type": "code",
   "execution_count": 17,
   "id": "ab7a25b3",
   "metadata": {},
   "outputs": [],
   "source": [
    "tokenizer=GPT2Tokenizer.from_pretrained('gpt2')\n",
    "model=GPT2LMHeadModel.from_pretrained('gpt2')"
   ]
  },
  {
   "cell_type": "code",
   "execution_count": 18,
   "id": "9094bd99",
   "metadata": {
    "scrolled": true
   },
   "outputs": [
    {
     "name": "stderr",
     "output_type": "stream",
     "text": [
      "The attention mask and the pad token id were not set. As a consequence, you may observe unexpected behavior. Please pass your input's `attention_mask` to obtain reliable results.\n",
      "Setting `pad_token_id` to `eos_token_id`:50256 for open-end generation.\n",
      "/home/nirav-ubuntu/env01/lib/python3.10/site-packages/transformers/generation/utils.py:1288: UserWarning: Using `max_length`'s default (20) to control the generation length. This behaviour is deprecated and will be removed from the config in v5 of Transformers -- we recommend using `max_new_tokens` to control the maximum length of the generation.\n",
      "  warnings.warn(\n",
      "Input length of input_ids is 762, but `max_length` is set to 20. This can lead to unexpected behavior. You should consider increasing `max_new_tokens`.\n",
      "The attention mask and the pad token id were not set. As a consequence, you may observe unexpected behavior. Please pass your input's `attention_mask` to obtain reliable results.\n",
      "Setting `pad_token_id` to `eos_token_id`:50256 for open-end generation.\n",
      "Input length of input_ids is 442, but `max_length` is set to 20. This can lead to unexpected behavior. You should consider increasing `max_new_tokens`.\n"
     ]
    }
   ],
   "source": [
    "#Encoding  text to get input ids & pass them to model.generate()\n",
    "inputs_text1=tokenizer.batch_encode_plus([text1],return_tensors='pt')\n",
    "summary_ids_text1=model.generate(inputs_text1['input_ids'],early_stopping=True)\n",
    "\n",
    "inputs_text2=tokenizer.batch_encode_plus([text2],return_tensors='pt')\n",
    "summary_ids_text2=model.generate(inputs_text2['input_ids'],early_stopping=True)"
   ]
  },
  {
   "cell_type": "code",
   "execution_count": 19,
   "id": "4ada4e72",
   "metadata": {},
   "outputs": [
    {
     "name": "stderr",
     "output_type": "stream",
     "text": [
      "2023-05-04 00:44:11.555820: I tensorflow/core/platform/cpu_feature_guard.cc:193] This TensorFlow binary is optimized with oneAPI Deep Neural Network Library (oneDNN) to use the following CPU instructions in performance-critical operations:  AVX2 AVX512F AVX512_VNNI FMA\n",
      "To enable them in other operations, rebuild TensorFlow with the appropriate compiler flags.\n",
      "2023-05-04 00:44:11.999019: I tensorflow/core/util/util.cc:169] oneDNN custom operations are on. You may see slightly different numerical results due to floating-point round-off errors from different computation orders. To turn them off, set the environment variable `TF_ENABLE_ONEDNN_OPTS=0`.\n",
      "2023-05-04 00:44:12.187529: E tensorflow/stream_executor/cuda/cuda_blas.cc:2981] Unable to register cuBLAS factory: Attempting to register factory for plugin cuBLAS when one has already been registered\n",
      "2023-05-04 00:44:13.089438: W tensorflow/stream_executor/platform/default/dso_loader.cc:64] Could not load dynamic library 'libnvinfer.so.7'; dlerror: libnvinfer.so.7: cannot open shared object file: No such file or directory\n",
      "2023-05-04 00:44:13.089649: W tensorflow/stream_executor/platform/default/dso_loader.cc:64] Could not load dynamic library 'libnvinfer_plugin.so.7'; dlerror: libnvinfer_plugin.so.7: cannot open shared object file: No such file or directory\n",
      "2023-05-04 00:44:13.089655: W tensorflow/compiler/tf2tensorrt/utils/py_utils.cc:38] TF-TRT Warning: Cannot dlopen some TensorRT libraries. If you would like to use Nvidia GPU with TensorRT, please make sure the missing libraries mentioned above are installed properly.\n"
     ]
    },
    {
     "name": "stdout",
     "output_type": "stream",
     "text": [
      "The Amazon River (UK: /ˈæməzən/, US: /ˈæməzɒn/; Spanish: Río Amazonas, Portuguese: Rio Amazonas) in South America is the largest river by discharge volume of water in the world, and the disputed longest river system in the world in comparison to the Nile.[2][16][n 2]\n",
      "\n",
      "The headwaters of the Apurímac River on Nevado Mismi had been considered for nearly a century as the Amazon basin's most distant source, until a 2014 study found it to be the headwaters of the Mantaro River on the Cordillera Rumi Cruz in Peru.[21] The Mantaro and Apurímac rivers join, and with other tributaries form the Ucayali River, which in turn meets the Marañón River upstream of Iquitos, Peru, forming what countries other than Brazil consider to be the main stem of the Amazon. Brazilians call this section the Solimões River above its confluence with the Rio Negro[22] forming what Brazilians call the Amazon at the Meeting of Waters (Portuguese: Encontro das Águas) at Manaus, the largest city on the river.\n",
      "\n",
      "The Amazon River has an average discharge of about 215,000 m3/s (7,600,000 cu ft/s)–230,000 m3/s (8,100,000 cu ft/s)—approximately 6,591 km3 (1,581 cu mi)– 7,570 km3 (1,820 cu mi) per year, greater than the next seven largest independent rivers combined. Two of the top ten rivers by discharge are tributaries of the Amazon river. The Amazon represents 20% of the global riverine discharge into oceans.[23] The Amazon basin is the largest drainage basin in the world, with an area of approximately 7,000,000 km2 (2,700,000 sq mi).[2] The portion of the river's drainage basin in Brazil alone is larger than any other river's basin. The Amazon enters Brazil with only one-fifth of the flow it finally discharges into the Atlantic Ocean, yet already has a greater flow at this point than the discharge of any other river.The Amazon was initially known by Europeans as the Marañón, and the Peruvian part of the river is still known by that name today. It later became known as Rio Amazonas in Spanish and Portuguese.\n",
      "\n",
      "The name Rio Amazonas was reportedly given after native warriors attacked a 16th-century expedition by Francisco de Orellana. The warriors were led by women, reminding de Orellana of the Amazon warriors, a tribe of women warriors related to Iranian Scythians and Sarmatians[26][27] mentioned in Greek mythology. The word Amazon itself may be derived from the Iranian compound *ha-maz-an- \"(one) fighting together\"[28] or ethnonym *ha-mazan- \"warriors\", a word attested indirectly through a derivation, a denominal verb in Hesychius of Alexandria's gloss \"ἁμαζακάραν· πολεμεῖν. Πέρσαι\" (\"hamazakaran: 'to make war' in Persian\"), where it appears together with the Indo-Iranian root *kar- \"make\" (from which Sanskrit karma is also derived).[29]\n",
      "\n",
      "Other scholars[who?] claim that the name is derived from the Tupi word amassona, meaning \"boat destroyer\"/ \"\n"
     ]
    }
   ],
   "source": [
    "#Decoding and printing summary\n",
    "GPT_summary_text1=tokenizer.decode(summary_ids_text1[0],skip_special_tokens=True)\n",
    "print(GPT_summary_text1)"
   ]
  },
  {
   "cell_type": "code",
   "execution_count": 20,
   "id": "29cb87c1",
   "metadata": {},
   "outputs": [
    {
     "name": "stdout",
     "output_type": "stream",
     "text": [
      "L'Amazone (en espagnol Río Amazonas, en portugais Rio Amazonas2) est un fleuve d'Amérique du Sud. C'est le plus puissant fleuve du monde : son débit moyen estimé à l'estuaire — de 209 000 m3/s pour la période 1973-19903 — est de loin le plus élevé de celui de tous les fleuves de la planète et il équivaut au volume cumulé des six fleuves qui le suivent immédiatement dans l'ordre des débits. À elle seuleβ, l'Amazone représente d'ailleurs environ un cinquième du débit fluvial du monde entier4.\n",
      "\n",
      "Avec ses 7 025 km5 (dans sa branche Apurímac-Ucayali6), c'est le plus long fleuve de la Terre avec le Nilα.\n",
      "\n",
      "L'Amazone est aussi le plus grand fleuve par l'immensité de son bassin. Il draine une surface de 6 112 000 km2 (sans le rio Tocantins) soit 40 % de l'Amérique du Sud et l'équivalent d'une fois et demie la surface de l'Union européenne (le Congo, deuxième fleuve pour la superficie de son bassin, atteint \"seulement\" 3,8 millions de km2). Le bassin de l'Amazone s'étend des latitudes 5° nord jusqu’à 20° sud. Le fleuve prend sa source dans la cordillère des Andes, traverse le Pérou, la Colombie et le Brésil, et se jette dans l'océan Atlantique au niveau de l'équateur.\n",
      "\n"
     ]
    }
   ],
   "source": [
    "GPT_summary_text2=tokenizer.decode(summary_ids_text2[0],skip_special_tokens=True)\n",
    "print(GPT_summary_text2)"
   ]
  }
 ],
 "metadata": {
  "kernelspec": {
   "display_name": "Python 3 (ipykernel)",
   "language": "python",
   "name": "python3"
  },
  "language_info": {
   "codemirror_mode": {
    "name": "ipython",
    "version": 3
   },
   "file_extension": ".py",
   "mimetype": "text/x-python",
   "name": "python",
   "nbconvert_exporter": "python",
   "pygments_lexer": "ipython3",
   "version": "3.10.6"
  }
 },
 "nbformat": 4,
 "nbformat_minor": 5
}
