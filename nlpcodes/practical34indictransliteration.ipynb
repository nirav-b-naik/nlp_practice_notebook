{
 "cells": [
  {
   "cell_type": "code",
   "execution_count": 1,
   "id": "afb1d487",
   "metadata": {},
   "outputs": [],
   "source": [
    "from indic_transliteration import sanscript\n",
    "from indic_transliteration.sanscript import transliterate"
   ]
  },
  {
   "cell_type": "code",
   "execution_count": 89,
   "id": "fc10c175",
   "metadata": {},
   "outputs": [],
   "source": [
    "data = 'nirava baMkimachaMdra naayaka'"
   ]
  },
  {
   "cell_type": "code",
   "execution_count": 90,
   "id": "f1f53b93",
   "metadata": {},
   "outputs": [
    {
     "name": "stdout",
     "output_type": "stream",
     "text": [
      "નિરવ બંકિમચંદ્ર  નાયક         \n"
     ]
    }
   ],
   "source": [
    "print(transliterate(data,sanscript.ITRANS, sanscript.GUJARATI))"
   ]
  },
  {
   "cell_type": "code",
   "execution_count": 91,
   "id": "67a0c944",
   "metadata": {},
   "outputs": [
    {
     "name": "stdout",
     "output_type": "stream",
     "text": [
      "निरव बंकिमचंद्र  नायक         \n"
     ]
    }
   ],
   "source": [
    "print(transliterate(data,sanscript.ITRANS, sanscript.DEVANAGARI))"
   ]
  },
  {
   "cell_type": "code",
   "execution_count": null,
   "id": "f89e42de",
   "metadata": {},
   "outputs": [],
   "source": [
    "data = 'nirava baMkimachaMdra naayaka'"
   ]
  },
  {
   "cell_type": "code",
   "execution_count": null,
   "id": "9fb381da",
   "metadata": {},
   "outputs": [],
   "source": []
  },
  {
   "cell_type": "code",
   "execution_count": null,
   "id": "6e3903e6",
   "metadata": {},
   "outputs": [],
   "source": []
  },
  {
   "cell_type": "code",
   "execution_count": null,
   "id": "c9ada587",
   "metadata": {},
   "outputs": [],
   "source": []
  },
  {
   "cell_type": "code",
   "execution_count": null,
   "id": "84415dd2",
   "metadata": {},
   "outputs": [],
   "source": []
  }
 ],
 "metadata": {
  "kernelspec": {
   "display_name": "Python 3 (ipykernel)",
   "language": "python",
   "name": "python3"
  },
  "language_info": {
   "codemirror_mode": {
    "name": "ipython",
    "version": 3
   },
   "file_extension": ".py",
   "mimetype": "text/x-python",
   "name": "python",
   "nbconvert_exporter": "python",
   "pygments_lexer": "ipython3",
   "version": "3.10.6"
  }
 },
 "nbformat": 4,
 "nbformat_minor": 5
}
