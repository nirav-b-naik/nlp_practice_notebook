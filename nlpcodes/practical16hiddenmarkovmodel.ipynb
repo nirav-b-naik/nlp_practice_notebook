{
 "cells": [
  {
   "cell_type": "code",
   "execution_count": 1,
   "id": "738529f8",
   "metadata": {},
   "outputs": [],
   "source": [
    "#Creating Hidden Markov Model"
   ]
  },
  {
   "cell_type": "code",
   "execution_count": 2,
   "id": "e5efb0f6",
   "metadata": {},
   "outputs": [],
   "source": [
    "import numpy as np\n",
    "import pandas as pd\n",
    "import matplotlib.pyplot as plt\n",
    "import networkx as nx"
   ]
  },
  {
   "cell_type": "code",
   "execution_count": 3,
   "id": "e53e127c",
   "metadata": {},
   "outputs": [
    {
     "name": "stdout",
     "output_type": "stream",
     "text": [
      "sleeping    0.45\n",
      "eating      0.35\n",
      "walking     0.20\n",
      "Name: states, dtype: float64\n",
      "1.0\n"
     ]
    }
   ],
   "source": [
    "states = ['sleeping','eating','walking']\n",
    "\n",
    "pi = [0.45,0.35,0.2]\n",
    "\n",
    "state_space = pd.Series(pi , index = states, name = 'states')\n",
    "\n",
    "print(state_space)\n",
    "print(state_space.sum())"
   ]
  },
  {
   "cell_type": "code",
   "execution_count": 4,
   "id": "59bff545",
   "metadata": {},
   "outputs": [
    {
     "data": {
      "text/plain": [
       "0.35"
      ]
     },
     "execution_count": 4,
     "metadata": {},
     "output_type": "execute_result"
    }
   ],
   "source": [
    "state_space['eating']"
   ]
  },
  {
   "cell_type": "code",
   "execution_count": 5,
   "id": "b03b09cd",
   "metadata": {},
   "outputs": [],
   "source": [
    "q_df = pd.DataFrame(columns=states, index=states)\n",
    "\n",
    "q_df.loc[states[0]] = [0.40,0.20,0.40]\n",
    "q_df.loc[states[1]] = [0.40,0.40,0.20]\n",
    "q_df.loc[states[2]] = [0.40,0.20,0.40]"
   ]
  },
  {
   "cell_type": "code",
   "execution_count": 6,
   "id": "35e31829",
   "metadata": {},
   "outputs": [
    {
     "data": {
      "text/html": [
       "<div>\n",
       "<style scoped>\n",
       "    .dataframe tbody tr th:only-of-type {\n",
       "        vertical-align: middle;\n",
       "    }\n",
       "\n",
       "    .dataframe tbody tr th {\n",
       "        vertical-align: top;\n",
       "    }\n",
       "\n",
       "    .dataframe thead th {\n",
       "        text-align: right;\n",
       "    }\n",
       "</style>\n",
       "<table border=\"1\" class=\"dataframe\">\n",
       "  <thead>\n",
       "    <tr style=\"text-align: right;\">\n",
       "      <th></th>\n",
       "      <th>sleeping</th>\n",
       "      <th>eating</th>\n",
       "      <th>walking</th>\n",
       "    </tr>\n",
       "  </thead>\n",
       "  <tbody>\n",
       "    <tr>\n",
       "      <th>sleeping</th>\n",
       "      <td>0.4</td>\n",
       "      <td>0.2</td>\n",
       "      <td>0.4</td>\n",
       "    </tr>\n",
       "    <tr>\n",
       "      <th>eating</th>\n",
       "      <td>0.4</td>\n",
       "      <td>0.4</td>\n",
       "      <td>0.2</td>\n",
       "    </tr>\n",
       "    <tr>\n",
       "      <th>walking</th>\n",
       "      <td>0.4</td>\n",
       "      <td>0.2</td>\n",
       "      <td>0.4</td>\n",
       "    </tr>\n",
       "  </tbody>\n",
       "</table>\n",
       "</div>"
      ],
      "text/plain": [
       "         sleeping eating walking\n",
       "sleeping      0.4    0.2     0.4\n",
       "eating        0.4    0.4     0.2\n",
       "walking       0.4    0.2     0.4"
      ]
     },
     "execution_count": 6,
     "metadata": {},
     "output_type": "execute_result"
    }
   ],
   "source": [
    "q_df"
   ]
  },
  {
   "cell_type": "code",
   "execution_count": 7,
   "id": "9a14b00b",
   "metadata": {},
   "outputs": [
    {
     "data": {
      "text/plain": [
       "sleeping    1.2\n",
       "eating      0.8\n",
       "walking     1.0\n",
       "dtype: object"
      ]
     },
     "execution_count": 7,
     "metadata": {},
     "output_type": "execute_result"
    }
   ],
   "source": [
    "q_df.sum(axis=0)"
   ]
  },
  {
   "cell_type": "code",
   "execution_count": 8,
   "id": "2932e9a1",
   "metadata": {},
   "outputs": [
    {
     "data": {
      "text/plain": [
       "sleeping    1.2\n",
       "eating      0.8\n",
       "walking     1.0\n",
       "dtype: object"
      ]
     },
     "execution_count": 8,
     "metadata": {},
     "output_type": "execute_result"
    }
   ],
   "source": [
    "q_df.sum(axis='rows')"
   ]
  },
  {
   "cell_type": "code",
   "execution_count": 9,
   "id": "c000da22",
   "metadata": {},
   "outputs": [
    {
     "data": {
      "text/plain": [
       "sleeping    1.0\n",
       "eating      1.0\n",
       "walking     1.0\n",
       "dtype: float64"
      ]
     },
     "execution_count": 9,
     "metadata": {},
     "output_type": "execute_result"
    }
   ],
   "source": [
    "q_df.sum(axis=1)"
   ]
  },
  {
   "cell_type": "code",
   "execution_count": 10,
   "id": "150220af",
   "metadata": {},
   "outputs": [
    {
     "data": {
      "text/plain": [
       "sleeping    1.0\n",
       "eating      1.0\n",
       "walking     1.0\n",
       "dtype: float64"
      ]
     },
     "execution_count": 10,
     "metadata": {},
     "output_type": "execute_result"
    }
   ],
   "source": [
    "q_df.sum(axis='columns')q_df.sum(axis='rows')"
   ]
  },
  {
   "cell_type": "code",
   "execution_count": 11,
   "id": "6511b95d",
   "metadata": {},
   "outputs": [],
   "source": [
    "from pprint import pprint"
   ]
  },
  {
   "cell_type": "code",
   "execution_count": 12,
   "id": "7e8688ee",
   "metadata": {},
   "outputs": [],
   "source": [
    "def get_markov_edges(Q):\n",
    "    edge = dict()\n",
    "    \n",
    "    for col in Q.columns:\n",
    "        \n",
    "        for idx in Q.index:\n",
    "            \n",
    "            edge[(idx,col)] = Q.loc[idx,col]\n",
    "    \n",
    "    return edge"
   ]
  },
  {
   "cell_type": "code",
   "execution_count": 13,
   "id": "182aae60",
   "metadata": {},
   "outputs": [
    {
     "name": "stdout",
     "output_type": "stream",
     "text": [
      "{('eating', 'eating'): 0.4,\n",
      " ('eating', 'sleeping'): 0.4,\n",
      " ('eating', 'walking'): 0.2,\n",
      " ('sleeping', 'eating'): 0.2,\n",
      " ('sleeping', 'sleeping'): 0.4,\n",
      " ('sleeping', 'walking'): 0.4,\n",
      " ('walking', 'eating'): 0.2,\n",
      " ('walking', 'sleeping'): 0.4,\n",
      " ('walking', 'walking'): 0.4}\n"
     ]
    }
   ],
   "source": [
    "edge_wt = get_markov_edges(q_df)\n",
    "\n",
    "pprint(edge_wt)"
   ]
  },
  {
   "cell_type": "code",
   "execution_count": 14,
   "id": "5c97948d",
   "metadata": {},
   "outputs": [
    {
     "name": "stdout",
     "output_type": "stream",
     "text": [
      "{('sleeping', 'sleeping'): 0.4, ('eating', 'sleeping'): 0.4, ('walking', 'sleeping'): 0.4, ('sleeping', 'eating'): 0.2, ('eating', 'eating'): 0.4, ('walking', 'eating'): 0.2, ('sleeping', 'walking'): 0.4, ('eating', 'walking'): 0.2, ('walking', 'walking'): 0.4}\n"
     ]
    }
   ],
   "source": [
    "print(edge_wt)"
   ]
  },
  {
   "cell_type": "markdown",
   "id": "e63fba31",
   "metadata": {},
   "source": [
    "<b><u> Creating object of the graphs"
   ]
  },
  {
   "cell_type": "code",
   "execution_count": 15,
   "id": "69f0a2ec",
   "metadata": {},
   "outputs": [],
   "source": [
    "Graph = nx.MultiDiGraph()"
   ]
  },
  {
   "cell_type": "code",
   "execution_count": 16,
   "id": "9a0ede60",
   "metadata": {},
   "outputs": [
    {
     "name": "stdout",
     "output_type": "stream",
     "text": [
      "Nodes: ['sleeping', 'eating', 'walking']\n"
     ]
    }
   ],
   "source": [
    "# Add states to graph\n",
    "Graph.add_nodes_from(states)\n",
    "print(f'Nodes: {Graph.nodes}')"
   ]
  },
  {
   "cell_type": "code",
   "execution_count": 17,
   "id": "f68a1210",
   "metadata": {},
   "outputs": [
    {
     "name": "stdout",
     "output_type": "stream",
     "text": [
      "Edges:\n",
      "OutMultiEdgeDataView([('sleeping', 'sleeping', {'weight': 0.4, 'label': 0.4}), ('sleeping', 'eating', {'weight': 0.2, 'label': 0.2}), ('sleeping', 'walking', {'weight': 0.4, 'label': 0.4}), ('eating', 'sleeping', {'weight': 0.4, 'label': 0.4}), ('eating', 'eating', {'weight': 0.4, 'label': 0.4}), ('eating', 'walking', {'weight': 0.2, 'label': 0.2}), ('walking', 'sleeping', {'weight': 0.4, 'label': 0.4}), ('walking', 'eating', {'weight': 0.2, 'label': 0.2}), ('walking', 'walking', {'weight': 0.4, 'label': 0.4})])\n"
     ]
    }
   ],
   "source": [
    "for key , val in edge_wt.items():\n",
    "    \n",
    "    tmp_origin , tmp_destination = key[0],key[1]\n",
    "    \n",
    "    Graph.add_edge(tmp_origin,tmp_destination, weight = val , label = val)\n",
    "    \n",
    "print('Edges:')\n",
    "pprint(Graph.edges(data =True))"
   ]
  },
  {
   "cell_type": "markdown",
   "id": "58d7a228",
   "metadata": {},
   "source": [
    "<b><u> Creating graph with pydot and graphviz"
   ]
  },
  {
   "cell_type": "code",
   "execution_count": 18,
   "id": "95cdc720",
   "metadata": {},
   "outputs": [],
   "source": [
    "import pydot\n",
    "import graphviz"
   ]
  },
  {
   "cell_type": "code",
   "execution_count": 19,
   "id": "420979f6",
   "metadata": {},
   "outputs": [
    {
     "data": {
      "image/png": "[encoded data removed]",
      "text/plain": [
       "<Figure size 640x480 with 1 Axes>"
      ]
     },
     "metadata": {},
     "output_type": "display_data"
    }
   ],
   "source": [
    "position = nx.drawing.nx_pydot.graphviz_layout(Graph)\n",
    "nx.draw_networkx(Graph,position)\n",
    "\n",
    "edge_labels = {(n1,n2): d['label'] for n1,n2,d in Graph.edges(data=True)}\n",
    "\n",
    "nx.draw_networkx_edge_labels(Graph, position,edge_labels=edge_labels)\n",
    "\n",
    "nx.drawing.nx_pydot.write_dot(Graph,'my_markov.dot')"
   ]
  },
  {
   "cell_type": "markdown",
   "id": "54103e90",
   "metadata": {},
   "source": [
    "<b><u> Hidden States"
   ]
  },
  {
   "cell_type": "code",
   "execution_count": 20,
   "id": "baf92756",
   "metadata": {},
   "outputs": [
    {
     "name": "stdout",
     "output_type": "stream",
     "text": [
      "healthy    0.55\n",
      "sick       0.45\n",
      "Name: states, dtype: float64\n",
      "1.0\n"
     ]
    }
   ],
   "source": [
    "hidden_state = ['healthy', 'sick']\n",
    "\n",
    "pi = [0.55,0.45]\n",
    "\n",
    "state_space = pd.Series(pi , index = hidden_state, name = 'states')\n",
    "\n",
    "print(state_space)\n",
    "print(state_space.sum())"
   ]
  },
  {
   "cell_type": "code",
   "execution_count": 21,
   "id": "9eed9421",
   "metadata": {},
   "outputs": [],
   "source": [
    "a1_df = pd.DataFrame(columns=hidden_state, index=hidden_state)\n",
    "\n",
    "a1_df.loc[hidden_state[0]] = [0.70,0.30]\n",
    "a1_df.loc[hidden_state[1]] = [0.40,0.60]"
   ]
  },
  {
   "cell_type": "code",
   "execution_count": 22,
   "id": "8a39fc1e",
   "metadata": {},
   "outputs": [
    {
     "data": {
      "text/html": [
       "<div>\n",
       "<style scoped>\n",
       "    .dataframe tbody tr th:only-of-type {\n",
       "        vertical-align: middle;\n",
       "    }\n",
       "\n",
       "    .dataframe tbody tr th {\n",
       "        vertical-align: top;\n",
       "    }\n",
       "\n",
       "    .dataframe thead th {\n",
       "        text-align: right;\n",
       "    }\n",
       "</style>\n",
       "<table border=\"1\" class=\"dataframe\">\n",
       "  <thead>\n",
       "    <tr style=\"text-align: right;\">\n",
       "      <th></th>\n",
       "      <th>healthy</th>\n",
       "      <th>sick</th>\n",
       "    </tr>\n",
       "  </thead>\n",
       "  <tbody>\n",
       "    <tr>\n",
       "      <th>healthy</th>\n",
       "      <td>0.7</td>\n",
       "      <td>0.3</td>\n",
       "    </tr>\n",
       "    <tr>\n",
       "      <th>sick</th>\n",
       "      <td>0.4</td>\n",
       "      <td>0.6</td>\n",
       "    </tr>\n",
       "  </tbody>\n",
       "</table>\n",
       "</div>"
      ],
      "text/plain": [
       "        healthy sick\n",
       "healthy     0.7  0.3\n",
       "sick        0.4  0.6"
      ]
     },
     "execution_count": 22,
     "metadata": {},
     "output_type": "execute_result"
    }
   ],
   "source": [
    "a1_df"
   ]
  },
  {
   "cell_type": "code",
   "execution_count": 25,
   "id": "ba23c437",
   "metadata": {},
   "outputs": [
    {
     "data": {
      "text/plain": [
       "healthy    1.0\n",
       "sick       1.0\n",
       "dtype: float64"
      ]
     },
     "execution_count": 25,
     "metadata": {},
     "output_type": "execute_result"
    }
   ],
   "source": [
    "a1_df.sum(axis='columns')"
   ]
  },
  {
   "cell_type": "code",
   "execution_count": 26,
   "id": "9882e1fc",
   "metadata": {},
   "outputs": [
    {
     "data": {
      "text/plain": [
       "healthy    1.1\n",
       "sick       0.9\n",
       "dtype: object"
      ]
     },
     "execution_count": 26,
     "metadata": {},
     "output_type": "execute_result"
    }
   ],
   "source": [
    "a1_df.sum(axis='rows')"
   ]
  },
  {
   "cell_type": "code",
   "execution_count": 27,
   "id": "ac329181",
   "metadata": {},
   "outputs": [
    {
     "name": "stdout",
     "output_type": "stream",
     "text": [
      "{('healthy', 'healthy'): 0.7,\n",
      " ('healthy', 'sick'): 0.3,\n",
      " ('sick', 'healthy'): 0.4,\n",
      " ('sick', 'sick'): 0.6}\n"
     ]
    }
   ],
   "source": [
    "edge_wt = get_markov_edges(a1_df)\n",
    "\n",
    "pprint(edge_wt)"
   ]
  },
  {
   "cell_type": "code",
   "execution_count": 31,
   "id": "43e456e2",
   "metadata": {},
   "outputs": [],
   "source": [
    "Graph = nx.MultiDiGraph()"
   ]
  },
  {
   "cell_type": "code",
   "execution_count": 32,
   "id": "cf15788a",
   "metadata": {},
   "outputs": [
    {
     "name": "stdout",
     "output_type": "stream",
     "text": [
      "Nodes: ['healthy', 'sick']\n"
     ]
    }
   ],
   "source": [
    "# Add states to graph\n",
    "Graph.add_nodes_from(hidden_state)\n",
    "print(f'Nodes: {Graph.nodes}')"
   ]
  },
  {
   "cell_type": "code",
   "execution_count": 33,
   "id": "06f29967",
   "metadata": {},
   "outputs": [
    {
     "name": "stdout",
     "output_type": "stream",
     "text": [
      "Edges:\n",
      "OutMultiEdgeDataView([('healthy', 'healthy', {'weight': 0.7, 'label': 0.7}), ('healthy', 'sick', {'weight': 0.3, 'label': 0.3}), ('sick', 'healthy', {'weight': 0.4, 'label': 0.4}), ('sick', 'sick', {'weight': 0.6, 'label': 0.6})])\n"
     ]
    }
   ],
   "source": [
    "for key , val in edge_wt.items():\n",
    "    \n",
    "    tmp_origin , tmp_destination = key[0],key[1]\n",
    "    \n",
    "    Graph.add_edge(tmp_origin,tmp_destination, weight = val , label = val)\n",
    "    \n",
    "print('Edges:')\n",
    "pprint(Graph.edges(data =True))"
   ]
  },
  {
   "cell_type": "markdown",
   "id": "058bccfd",
   "metadata": {},
   "source": [
    "<b><u> Creating graph with pydot and graphviz"
   ]
  },
  {
   "cell_type": "code",
   "execution_count": 34,
   "id": "409d69d5",
   "metadata": {},
   "outputs": [
    {
     "data": {
      "image/png": "[encoded data removed]",
      "text/plain": [
       "<Figure size 640x480 with 1 Axes>"
      ]
     },
     "metadata": {},
     "output_type": "display_data"
    }
   ],
   "source": [
    "position = nx.drawing.nx_pydot.graphviz_layout(Graph)\n",
    "nx.draw_networkx(Graph,position)\n",
    "\n",
    "edge_labels = {(n1,n2): d['label'] for n1,n2,d in Graph.edges(data=True)}\n",
    "\n",
    "nx.draw_networkx_edge_labels(Graph, position,edge_labels=edge_labels)\n",
    "\n",
    "nx.drawing.nx_pydot.write_dot(Graph,'my_markov.dot')"
   ]
  },
  {
   "cell_type": "code",
   "execution_count": null,
   "id": "3c63c4f9",
   "metadata": {},
   "outputs": [],
   "source": []
  },
  {
   "cell_type": "code",
   "execution_count": null,
   "id": "3e837689",
   "metadata": {},
   "outputs": [],
   "source": []
  },
  {
   "cell_type": "code",
   "execution_count": null,
   "id": "9b17b261",
   "metadata": {},
   "outputs": [],
   "source": []
  }
 ],
 "metadata": {
  "kernelspec": {
   "display_name": "Python 3 (ipykernel)",
   "language": "python",
   "name": "python3"
  },
  "language_info": {
   "codemirror_mode": {
    "name": "ipython",
    "version": 3
   },
   "file_extension": ".py",
   "mimetype": "text/x-python",
   "name": "python",
   "nbconvert_exporter": "python",
   "pygments_lexer": "ipython3",
   "version": "3.10.6"
  }
 },
 "nbformat": 4,
 "nbformat_minor": 5
}
