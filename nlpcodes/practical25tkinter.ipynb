{
 "cells": [
  {
   "cell_type": "code",
   "execution_count": 1,
   "id": "6719e694",
   "metadata": {},
   "outputs": [],
   "source": [
    "from tkinter import *"
   ]
  },
  {
   "cell_type": "code",
   "execution_count": 2,
   "id": "3b5a6c0b",
   "metadata": {},
   "outputs": [],
   "source": [
    "top = Tk()\n",
    "\n",
    "top.title('My Program')\n",
    "\n",
    "top.geometry(\"500x350\")\n",
    "\n",
    "l = Label(text = \"Hello World\")\n",
    "b = Button(text = \"Submit\")\n",
    "e = Entry()\n",
    "\n",
    "l.pack()\n",
    "b.pack()\n",
    "e.pack()\n",
    "\n",
    "top.mainloop()"
   ]
  },
  {
   "cell_type": "code",
   "execution_count": 16,
   "id": "798feb82",
   "metadata": {},
   "outputs": [],
   "source": [
    "top = Tk()\n",
    "\n",
    "top.title('My Program')\n",
    "top.geometry(\"500x350\")\n",
    "\n",
    "def show():\n",
    "    n = int(num.get())\n",
    "    \n",
    "    result = Label(text = f\"The Square is: {n**2}\")\n",
    "    result.place(x = 100, y = 200)\n",
    "\n",
    "num = IntVar() # intvar ,doublevar, stringvar\n",
    "\n",
    "l = Label(text = \"Enter Number: \").place(x=100,y=100)\n",
    "e = Entry(textvariable=num).place(x=200,y=100)\n",
    "b = Button(text = \"Submit\", command=show).place(x=180,y=150)\n",
    "\n",
    "top.mainloop()"
   ]
  },
  {
   "cell_type": "code",
   "execution_count": null,
   "id": "62134249",
   "metadata": {},
   "outputs": [],
   "source": []
  },
  {
   "cell_type": "code",
   "execution_count": null,
   "id": "7a5f2735",
   "metadata": {},
   "outputs": [],
   "source": []
  },
  {
   "cell_type": "code",
   "execution_count": null,
   "id": "fd96e4f4",
   "metadata": {},
   "outputs": [],
   "source": []
  },
  {
   "cell_type": "code",
   "execution_count": null,
   "id": "b2d286f1",
   "metadata": {},
   "outputs": [],
   "source": []
  },
  {
   "cell_type": "code",
   "execution_count": null,
   "id": "b3ffbdfc",
   "metadata": {},
   "outputs": [],
   "source": []
  },
  {
   "cell_type": "code",
   "execution_count": null,
   "id": "f3150704",
   "metadata": {},
   "outputs": [],
   "source": []
  }
 ],
 "metadata": {
  "kernelspec": {
   "display_name": "Python 3 (ipykernel)",
   "language": "python",
   "name": "python3"
  },
  "language_info": {
   "codemirror_mode": {
    "name": "ipython",
    "version": 3
   },
   "file_extension": ".py",
   "mimetype": "text/x-python",
   "name": "python",
   "nbconvert_exporter": "python",
   "pygments_lexer": "ipython3",
   "version": "3.10.6"
  }
 },
 "nbformat": 4,
 "nbformat_minor": 5
}
