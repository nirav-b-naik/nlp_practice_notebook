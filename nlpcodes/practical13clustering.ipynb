{
 "cells": [
  {
   "cell_type": "markdown",
   "id": "60e09056",
   "metadata": {},
   "source": [
    "### K-Means "
   ]
  },
  {
   "cell_type": "code",
   "execution_count": 1,
   "id": "c007c1ad",
   "metadata": {},
   "outputs": [],
   "source": [
    "from sklearn.datasets import fetch_20newsgroups"
   ]
  },
  {
   "cell_type": "code",
   "execution_count": 2,
   "id": "909701b3",
   "metadata": {},
   "outputs": [],
   "source": [
    "categorise = ['comp.graphics',\n",
    "             'soc.religion.christian']"
   ]
  },
  {
   "cell_type": "code",
   "execution_count": 3,
   "id": "5e8654cd",
   "metadata": {},
   "outputs": [],
   "source": [
    "# train test split\n",
    "\n",
    "twenty_train = fetch_20newsgroups(subset='train',\n",
    "                                  categories=categorise,\n",
    "                                  shuffle=True,\n",
    "                                  random_state=0)\n",
    "\n",
    "twenty_test = fetch_20newsgroups(subset='test',\n",
    "                                  categories=categorise,\n",
    "                                  shuffle=True,\n",
    "                                  random_state=0)"
   ]
  },
  {
   "cell_type": "code",
   "execution_count": 4,
   "id": "df4897c4",
   "metadata": {},
   "outputs": [
    {
     "data": {
      "text/plain": [
       "5"
      ]
     },
     "execution_count": 4,
     "metadata": {},
     "output_type": "execute_result"
    }
   ],
   "source": [
    "len(twenty_train)"
   ]
  },
  {
   "cell_type": "code",
   "execution_count": 5,
   "id": "f96d0ec6",
   "metadata": {},
   "outputs": [
    {
     "data": {
      "text/plain": [
       "dict_keys(['data', 'filenames', 'target_names', 'target', 'DESCR'])"
      ]
     },
     "execution_count": 5,
     "metadata": {},
     "output_type": "execute_result"
    }
   ],
   "source": [
    "twenty_train.keys()"
   ]
  },
  {
   "cell_type": "code",
   "execution_count": 6,
   "id": "0bcbe66b",
   "metadata": {},
   "outputs": [],
   "source": [
    "# TF-IDF FEATURE GENERATION\n",
    "\n",
    "from sklearn.feature_extraction.text import TfidfVectorizer\n",
    "\n",
    "from sklearn.feature_extraction.text import TfidfTransformer\n",
    "\n",
    "from nltk.tokenize import RegexpTokenizer"
   ]
  },
  {
   "cell_type": "code",
   "execution_count": 7,
   "id": "446ae636",
   "metadata": {},
   "outputs": [],
   "source": [
    "# Intialize tokenizer\n",
    "\n",
    "tokenizer=RegexpTokenizer(r'\\w+')"
   ]
  },
  {
   "cell_type": "code",
   "execution_count": 8,
   "id": "dd76fe6d",
   "metadata": {},
   "outputs": [],
   "source": [
    "# vectorization \n",
    "\n",
    "tf_idf_vect = TfidfVectorizer(lowercase=True,\n",
    "                             stop_words='english',\n",
    "                             ngram_range=(1,1),\n",
    "                             tokenizer=tokenizer.tokenize)"
   ]
  },
  {
   "cell_type": "code",
   "execution_count": 9,
   "id": "8cd71917",
   "metadata": {},
   "outputs": [],
   "source": [
    "X_train_count=tf_idf_vect.fit_transform(twenty_train['data'])"
   ]
  },
  {
   "cell_type": "code",
   "execution_count": 10,
   "id": "d800297e",
   "metadata": {},
   "outputs": [
    {
     "data": {
      "text/plain": [
       "22690"
      ]
     },
     "execution_count": 10,
     "metadata": {},
     "output_type": "execute_result"
    }
   ],
   "source": [
    "len(tf_idf_vect.get_feature_names_out())"
   ]
  },
  {
   "cell_type": "markdown",
   "id": "9df7ffcb",
   "metadata": {},
   "source": [
    "#### clusteing of news data"
   ]
  },
  {
   "cell_type": "code",
   "execution_count": 11,
   "id": "963f489c",
   "metadata": {},
   "outputs": [],
   "source": [
    "# Import KMeans\n",
    "from sklearn.cluster import KMeans"
   ]
  },
  {
   "cell_type": "code",
   "execution_count": 12,
   "id": "ee7cb782",
   "metadata": {},
   "outputs": [],
   "source": [
    "kmeans = KMeans(n_clusters=2,\n",
    "               random_state=0)"
   ]
  },
  {
   "cell_type": "code",
   "execution_count": 13,
   "id": "d063e886",
   "metadata": {},
   "outputs": [],
   "source": [
    "labels=kmeans.fit_predict(X_train_count)"
   ]
  },
  {
   "cell_type": "code",
   "execution_count": 14,
   "id": "2eb0f0f6",
   "metadata": {},
   "outputs": [
    {
     "data": {
      "text/plain": [
       "array([0, 1, 0, ..., 1, 0, 0], dtype=int32)"
      ]
     },
     "execution_count": 14,
     "metadata": {},
     "output_type": "execute_result"
    }
   ],
   "source": [
    "labels"
   ]
  },
  {
   "cell_type": "code",
   "execution_count": 15,
   "id": "c78544e2",
   "metadata": {},
   "outputs": [
    {
     "data": {
      "text/plain": [
       "2"
      ]
     },
     "execution_count": 15,
     "metadata": {},
     "output_type": "execute_result"
    }
   ],
   "source": [
    "len(kmeans.cluster_centers_)"
   ]
  },
  {
   "cell_type": "markdown",
   "id": "cb9aabb2",
   "metadata": {},
   "source": [
    "####  predicting no of cluster based on new data."
   ]
  },
  {
   "cell_type": "code",
   "execution_count": 16,
   "id": "595f4d08",
   "metadata": {},
   "outputs": [],
   "source": [
    "new1 = ['Many tools have been developed to visualize data.']\n",
    "\n",
    "new2 = ['The god is great.']\n",
    "\n",
    "new3 = ['''An M.2 AI edge accelerator module and a PCIe AI edge accelerator card have been announced by Axelera AI, a start up based in the Netherlands. ''']"
   ]
  },
  {
   "cell_type": "code",
   "execution_count": 17,
   "id": "70658897",
   "metadata": {},
   "outputs": [
    {
     "data": {
      "text/plain": [
       "array([1], dtype=int32)"
      ]
     },
     "execution_count": 17,
     "metadata": {},
     "output_type": "execute_result"
    }
   ],
   "source": [
    "new1 = tf_idf_vect.transform(new1)\n",
    "kmeans.predict(new1)"
   ]
  },
  {
   "cell_type": "code",
   "execution_count": 18,
   "id": "8ab1dc4c",
   "metadata": {},
   "outputs": [
    {
     "data": {
      "text/plain": [
       "array([0], dtype=int32)"
      ]
     },
     "execution_count": 18,
     "metadata": {},
     "output_type": "execute_result"
    }
   ],
   "source": [
    "new2 = tf_idf_vect.transform(new2)\n",
    "kmeans.predict(new2)"
   ]
  },
  {
   "cell_type": "code",
   "execution_count": 19,
   "id": "fdf4218e",
   "metadata": {},
   "outputs": [
    {
     "data": {
      "text/plain": [
       "array([1], dtype=int32)"
      ]
     },
     "execution_count": 19,
     "metadata": {},
     "output_type": "execute_result"
    }
   ],
   "source": [
    "new3 = tf_idf_vect.transform(new3)\n",
    "kmeans.predict(new3)"
   ]
  },
  {
   "cell_type": "code",
   "execution_count": 20,
   "id": "f5647de1",
   "metadata": {},
   "outputs": [
    {
     "data": {
      "text/plain": [
       "dict_keys(['data', 'filenames', 'target_names', 'target', 'DESCR'])"
      ]
     },
     "execution_count": 20,
     "metadata": {},
     "output_type": "execute_result"
    }
   ],
   "source": [
    "twenty_train.keys()"
   ]
  },
  {
   "cell_type": "code",
   "execution_count": 21,
   "id": "8cb8ccce",
   "metadata": {},
   "outputs": [
    {
     "data": {
      "text/plain": [
       "array([1, 0, 1, ..., 0, 1, 1])"
      ]
     },
     "execution_count": 21,
     "metadata": {},
     "output_type": "execute_result"
    }
   ],
   "source": [
    "twenty_train['target']"
   ]
  },
  {
   "cell_type": "markdown",
   "id": "b15c21f0",
   "metadata": {},
   "source": [
    "### Agglomerative clustering (linkage , dendrogram)"
   ]
  },
  {
   "cell_type": "code",
   "execution_count": 22,
   "id": "b4a4b45e",
   "metadata": {},
   "outputs": [],
   "source": [
    "from sklearn.cluster import AgglomerativeClustering"
   ]
  },
  {
   "cell_type": "code",
   "execution_count": 23,
   "id": "933fd1ef",
   "metadata": {},
   "outputs": [],
   "source": [
    "agc = AgglomerativeClustering(n_clusters=2)"
   ]
  },
  {
   "cell_type": "code",
   "execution_count": 24,
   "id": "350c1eaf",
   "metadata": {},
   "outputs": [],
   "source": [
    "labels = agc.fit_predict(X_train_count.toarray())"
   ]
  },
  {
   "cell_type": "code",
   "execution_count": 25,
   "id": "163311c9",
   "metadata": {},
   "outputs": [
    {
     "data": {
      "text/plain": [
       "array([1, 0, 0, ..., 0, 1, 1])"
      ]
     },
     "execution_count": 25,
     "metadata": {},
     "output_type": "execute_result"
    }
   ],
   "source": [
    "labels"
   ]
  },
  {
   "cell_type": "code",
   "execution_count": 26,
   "id": "3df0a1d0",
   "metadata": {},
   "outputs": [
    {
     "data": {
      "text/plain": [
       "array([0, 1, 0, ..., 1, 0, 0], dtype=int32)"
      ]
     },
     "execution_count": 26,
     "metadata": {},
     "output_type": "execute_result"
    }
   ],
   "source": [
    "kmeans.labels_"
   ]
  },
  {
   "cell_type": "code",
   "execution_count": 28,
   "id": "5ca3b9cb",
   "metadata": {},
   "outputs": [
    {
     "data": {
      "text/plain": [
       "103"
      ]
     },
     "execution_count": 28,
     "metadata": {},
     "output_type": "execute_result"
    }
   ],
   "source": [
    "sum(labels==kmeans.labels_)"
   ]
  },
  {
   "cell_type": "code",
   "execution_count": null,
   "id": "d6f15eb1",
   "metadata": {},
   "outputs": [],
   "source": []
  }
 ],
 "metadata": {
  "kernelspec": {
   "display_name": "Python 3 (ipykernel)",
   "language": "python",
   "name": "python3"
  },
  "language_info": {
   "codemirror_mode": {
    "name": "ipython",
    "version": 3
   },
   "file_extension": ".py",
   "mimetype": "text/x-python",
   "name": "python",
   "nbconvert_exporter": "python",
   "pygments_lexer": "ipython3",
   "version": "3.10.6"
  }
 },
 "nbformat": 4,
 "nbformat_minor": 5
}
