{
 "cells": [
  {
   "cell_type": "code",
   "execution_count": 2,
   "id": "10410a5c",
   "metadata": {},
   "outputs": [],
   "source": [
    "import icu"
   ]
  },
  {
   "cell_type": "code",
   "execution_count": 4,
   "id": "1a576dbe",
   "metadata": {
    "collapsed": true
   },
   "outputs": [
    {
     "data": {
      "text/plain": [
       "['AlphabeticIndex',\n",
       " 'AnnualTimeZoneRule',\n",
       " 'BasicTimeZone',\n",
       " 'Bidi',\n",
       " 'BidiTransform',\n",
       " 'BreakIterator',\n",
       " 'BytesTrie',\n",
       " 'BytesTrieBuilder',\n",
       " 'BytesTrieIterator',\n",
       " 'BytesTrieState',\n",
       " 'Calendar',\n",
       " 'CanonicalIterator',\n",
       " 'CaseMap',\n",
       " 'Char',\n",
       " 'CharacterIterator',\n",
       " 'CharsetDetector',\n",
       " 'CharsetMatch',\n",
       " 'ChoiceFormat',\n",
       " 'CollationElementIterator',\n",
       " 'CollationKey',\n",
       " 'Collator',\n",
       " 'CompactDecimalFormat',\n",
       " 'ConstrainedFieldPosition',\n",
       " 'CurrencyAmount',\n",
       " 'CurrencyPluralInfo',\n",
       " 'CurrencyPrecision',\n",
       " 'CurrencyUnit',\n",
       " 'DateFormat',\n",
       " 'DateFormatSymbols',\n",
       " 'DateInterval',\n",
       " 'DateIntervalFormat',\n",
       " 'DateIntervalInfo',\n",
       " 'DateRuleType',\n",
       " 'DateTimePatternGenerator',\n",
       " 'DateTimeRule',\n",
       " 'DecimalFormat',\n",
       " 'DecimalFormatSymbols',\n",
       " 'DictionaryBasedBreakIterator',\n",
       " 'Edits',\n",
       " 'EditsIterator',\n",
       " 'FLOATING_TZNAME',\n",
       " 'FieldPosition',\n",
       " 'FilteredNormalizer2',\n",
       " 'FloatingTZ',\n",
       " 'Format',\n",
       " 'Formattable',\n",
       " 'FormattedDateInterval',\n",
       " 'FormattedList',\n",
       " 'FormattedNumber',\n",
       " 'FormattedNumberRange',\n",
       " 'FormattedRelativeDateTime',\n",
       " 'FormattedValue',\n",
       " 'ForwardCharacterIterator',\n",
       " 'FractionPrecision',\n",
       " 'GenderInfo',\n",
       " 'GregorianCalendar',\n",
       " 'ICUError',\n",
       " 'ICU_MAX_MAJOR_VERSION',\n",
       " 'ICU_VERSION',\n",
       " 'ICUtzinfo',\n",
       " 'IDNA',\n",
       " 'IDNAInfo',\n",
       " 'ImmutableIndex',\n",
       " 'IncrementPrecision',\n",
       " 'InitialTimeZoneRule',\n",
       " 'IntegerWidth',\n",
       " 'InvalidArgsError',\n",
       " 'ListFormatter',\n",
       " 'Locale',\n",
       " 'LocaleBuilder',\n",
       " 'LocaleData',\n",
       " 'LocaleMatcher',\n",
       " 'LocaleMatcherBuilder',\n",
       " 'LocaleMatcherResult',\n",
       " 'LocalizedNumberFormatter',\n",
       " 'LocalizedNumberRangeFormatter',\n",
       " 'Measure',\n",
       " 'MeasureFormat',\n",
       " 'MeasureUnit',\n",
       " 'MessageFormat',\n",
       " 'MessagePattern',\n",
       " 'MessagePattern_Part',\n",
       " 'NoUnit',\n",
       " 'Normalizer',\n",
       " 'Normalizer2',\n",
       " 'Notation',\n",
       " 'NumberFormat',\n",
       " 'NumberFormatter',\n",
       " 'NumberRangeFormatter',\n",
       " 'NumberingSystem',\n",
       " 'PY_VERSION',\n",
       " 'ParsePosition',\n",
       " 'PluralFormat',\n",
       " 'PluralRules',\n",
       " 'Precision',\n",
       " 'PythonReplaceable',\n",
       " 'RegexMatcher',\n",
       " 'RegexPattern',\n",
       " 'Region',\n",
       " 'RelativeDateTimeFormatter',\n",
       " 'Replaceable',\n",
       " 'ResourceBundle',\n",
       " 'RuleBasedBreakIterator',\n",
       " 'RuleBasedCollator',\n",
       " 'RuleBasedNumberFormat',\n",
       " 'RuleBasedTimeZone',\n",
       " 'Scale',\n",
       " 'ScientificNotation',\n",
       " 'Script',\n",
       " 'SearchIterator',\n",
       " 'SelectFormat',\n",
       " 'Shape',\n",
       " 'SimpleDateFormat',\n",
       " 'SimpleFormatter',\n",
       " 'SimpleTimeZone',\n",
       " 'SpoofChecker',\n",
       " 'StringCharacterIterator',\n",
       " 'StringEnumeration',\n",
       " 'StringSearch',\n",
       " 'StringTrieBuilder',\n",
       " 'TimeArrayTimeZoneRule',\n",
       " 'TimeRuleType',\n",
       " 'TimeUnit',\n",
       " 'TimeUnitAmount',\n",
       " 'TimeUnitFormat',\n",
       " 'TimeZone',\n",
       " 'TimeZoneRule',\n",
       " 'TimeZoneTransition',\n",
       " 'Transliterator',\n",
       " 'UAcceptResult',\n",
       " 'UAlphabeticIndexLabelType',\n",
       " 'UBiDiDirection',\n",
       " 'UBiDiMirroring',\n",
       " 'UBiDiOrder',\n",
       " 'UBiDiReorderingMode',\n",
       " 'UBiDiReorderingOption',\n",
       " 'UBidiPairedBracketType',\n",
       " 'UBlockCode',\n",
       " 'UCalendarAMPMs',\n",
       " 'UCalendarDateFields',\n",
       " 'UCalendarDaysOfWeek',\n",
       " 'UCalendarMonths',\n",
       " 'UCharCategory',\n",
       " 'UCharCharacterIterator',\n",
       " 'UCharDirection',\n",
       " 'UCharNameChoice',\n",
       " 'UCharsTrie',\n",
       " 'UCharsTrieBuilder',\n",
       " 'UCharsTrieIterator',\n",
       " 'UCharsTrieState',\n",
       " 'UCollAttribute',\n",
       " 'UCollAttributeValue',\n",
       " 'UCollationResult',\n",
       " 'UCurrNameStyle',\n",
       " 'UCurrencySpacing',\n",
       " 'UCurrencyUsage',\n",
       " 'UDateAbsoluteUnit',\n",
       " 'UDateDirection',\n",
       " 'UDateFormatBooleanAttribute',\n",
       " 'UDateRelativeDateTimeFormatterStyle',\n",
       " 'UDateRelativeUnit',\n",
       " 'UDateTimePatternConflict',\n",
       " 'UDateTimePatternField',\n",
       " 'UDateTimePatternMatchOptions',\n",
       " 'UDisplayContext',\n",
       " 'UDisplayContextType',\n",
       " 'UFieldCategory',\n",
       " 'UGender',\n",
       " 'UGraphemeClusterBreak',\n",
       " 'UHangulSyllableType',\n",
       " 'UIndicPositionalCategory',\n",
       " 'UIndicSyllabicCategory',\n",
       " 'UJoiningGroup',\n",
       " 'ULineBreak',\n",
       " 'UListFormatterField',\n",
       " 'ULocDataLocaleType',\n",
       " 'ULocMatchDemotion',\n",
       " 'ULocMatchDirection',\n",
       " 'ULocMatchFavorSubtag',\n",
       " 'ULocaleDataDelimiterType',\n",
       " 'ULocaleDataExemplarSetType',\n",
       " 'UMatchDegree',\n",
       " 'UMeasurePrefix',\n",
       " 'UMeasureUnitComplexity',\n",
       " 'UMeasurementSystem',\n",
       " 'UMemory',\n",
       " 'UMessagePatternApostropheMode',\n",
       " 'UMessagePatternArgType',\n",
       " 'UMessagePatternPartType',\n",
       " 'UNICODE_VERSION',\n",
       " 'UNORM_INPUT_IS_FCD',\n",
       " 'UNormalizationCheckResult',\n",
       " 'UNormalizationMode',\n",
       " 'UNormalizationMode2',\n",
       " 'UNumberCompactStyle',\n",
       " 'UNumberDecimalSeparatorDisplay',\n",
       " 'UNumberFormatAttribute',\n",
       " 'UNumberFormatFields',\n",
       " 'UNumberFormatRoundingMode',\n",
       " 'UNumberFormatStyle',\n",
       " 'UNumberGroupingStrategy',\n",
       " 'UNumberRangeCollapse',\n",
       " 'UNumberRangeIdentityFallback',\n",
       " 'UNumberRangeIdentityResult',\n",
       " 'UNumberRoundingPriority',\n",
       " 'UNumberSignDisplay',\n",
       " 'UNumberTrailingZeroDisplay',\n",
       " 'UNumberUnitWidth',\n",
       " 'UObject',\n",
       " 'UProperty',\n",
       " 'UPropertyNameChoice',\n",
       " 'URBNFRuleSetTag',\n",
       " 'URegexpFlag',\n",
       " 'URegionType',\n",
       " 'URelativeDateTimeFormatterField',\n",
       " 'URelativeDateTimeUnit',\n",
       " 'UResType',\n",
       " 'URestrictionLevel',\n",
       " 'USET_ADD_CASE_MAPPINGS',\n",
       " 'USET_CASE_INSENSITIVE',\n",
       " 'USET_IGNORE_SPACE',\n",
       " 'UScriptCode',\n",
       " 'UScriptUsage',\n",
       " 'USearchAttribute',\n",
       " 'USearchAttributeValue',\n",
       " 'USetSpanCondition',\n",
       " 'USpoofChecks',\n",
       " 'UStringTrieBuildOption',\n",
       " 'UStringTrieResult',\n",
       " 'UTimeUnitFields',\n",
       " 'UTimeUnitFormatStyle',\n",
       " 'UTimeZoneLocalOption',\n",
       " 'UTransDirection',\n",
       " 'UTransPosition',\n",
       " 'UVerticalOrientation',\n",
       " 'UWordBreak',\n",
       " 'UWordBreakValues',\n",
       " 'U_COMPARE_CODE_POINT_ORDER',\n",
       " 'U_COMPARE_IGNORE_CASE',\n",
       " 'U_EDITS_NO_RESET',\n",
       " 'U_FOLD_CASE_DEFAULT',\n",
       " 'U_FOLD_CASE_EXCLUDE_SPECIAL_I',\n",
       " 'U_OMIT_UNCHANGED_TEXT',\n",
       " 'U_TITLECASE_ADJUST_TO_CASED',\n",
       " 'U_TITLECASE_NO_BREAK_ADJUSTMENT',\n",
       " 'U_TITLECASE_NO_LOWERCASE',\n",
       " 'U_TITLECASE_SENTENCES',\n",
       " 'U_TITLECASE_WHOLE_STRING',\n",
       " 'UnicodeFilter',\n",
       " 'UnicodeFunctor',\n",
       " 'UnicodeMatcher',\n",
       " 'UnicodeSet',\n",
       " 'UnicodeSetIterator',\n",
       " 'UnicodeString',\n",
       " 'UnlocalizedNumberFormatter',\n",
       " 'UnlocalizedNumberRangeFormatter',\n",
       " 'VERSION',\n",
       " 'VTimeZone',\n",
       " '__builtins__',\n",
       " '__cached__',\n",
       " '__doc__',\n",
       " '__file__',\n",
       " '__loader__',\n",
       " '__name__',\n",
       " '__package__',\n",
       " '__path__',\n",
       " '__spec__',\n",
       " '_icu_']"
      ]
     },
     "execution_count": 4,
     "metadata": {},
     "output_type": "execute_result"
    }
   ],
   "source": [
    "dir(icu)"
   ]
  },
  {
   "cell_type": "code",
   "execution_count": 5,
   "id": "bd6ba74a",
   "metadata": {},
   "outputs": [
    {
     "name": "stdout",
     "output_type": "stream",
     "text": [
      "Defaulting to user installation because normal site-packages is not writeable\n",
      "Collecting morfessor\n",
      "  Downloading Morfessor-2.0.6-py3-none-any.whl (35 kB)\n",
      "Installing collected packages: morfessor\n",
      "Successfully installed morfessor-2.0.6\n"
     ]
    }
   ],
   "source": [
    "!pip install morfessor"
   ]
  },
  {
   "cell_type": "code",
   "execution_count": 7,
   "id": "1ca15ba1",
   "metadata": {},
   "outputs": [
    {
     "name": "stdout",
     "output_type": "stream",
     "text": [
      "Defaulting to user installation because normal site-packages is not writeable\n",
      "Collecting polyglot\n",
      "  Downloading polyglot-16.7.4.tar.gz (126 kB)\n",
      "\u001b[2K     \u001b[38;2;114;156;31m━━━━━━━━━━━━━━━━━━━━━━━━━━━━━━━━━━━━━\u001b[0m \u001b[32m126.3/126.3 KB\u001b[0m \u001b[31m650.4 kB/s\u001b[0m eta \u001b[36m0:00:00\u001b[0m[31m2.3 MB/s\u001b[0m eta \u001b[36m0:00:01\u001b[0m\n",
      "\u001b[?25h  Preparing metadata (setup.py) ... \u001b[?25ldone\n",
      "\u001b[?25hBuilding wheels for collected packages: polyglot\n",
      "  Building wheel for polyglot (setup.py) ... \u001b[?25ldone\n",
      "\u001b[?25h  Created wheel for polyglot: filename=polyglot-16.7.4-py2.py3-none-any.whl size=52577 sha256=b52e3822949999b4500b47cf48b38f7ce4ca0f5f5070c4344f153fbcd4b55eb5\n",
      "  Stored in directory: /home/dai/.cache/pip/wheels/aa/92/4a/b172589446ba537db3bdb9a1f2204f27fe71217981c14ac368\n",
      "Successfully built polyglot\n",
      "Installing collected packages: polyglot\n",
      "Successfully installed polyglot-16.7.4\n"
     ]
    }
   ],
   "source": [
    "!pip install polyglot"
   ]
  },
  {
   "cell_type": "code",
   "execution_count": 8,
   "id": "7643bc89",
   "metadata": {},
   "outputs": [
    {
     "name": "stdout",
     "output_type": "stream",
     "text": [
      "[polyglot_data] Downloading package morph2.en to\n",
      "[polyglot_data]     /home/dai/polyglot_data...\n",
      "[polyglot_data] Downloading package morph2.ar to\n",
      "[polyglot_data]     /home/dai/polyglot_data...\n"
     ]
    }
   ],
   "source": [
    "%%bash\n",
    "polyglot download morph2.en morph2.ar"
   ]
  },
  {
   "cell_type": "code",
   "execution_count": 9,
   "id": "4e46eacb",
   "metadata": {
    "scrolled": true
   },
   "outputs": [
    {
     "name": "stdout",
     "output_type": "stream",
     "text": [
      "  1. Kapampangan                2. Italian                    3. Upper Sorbian            \n",
      "  4. Sakha                      5. Hindi                      6. French                   \n",
      "  7. Spanish; Castilian         8. Vietnamese                 9. Arabic                   \n",
      " 10. Macedonian                11. Pashto, Pushto            12. Bosnian-Croatian-Serbian \n",
      " 13. Egyptian Arabic           14. Norwegian Nynorsk         15. Sundanese                \n",
      " 16. Sicilian                  17. Azerbaijani               18. Bulgarian                \n",
      " 19. Yoruba                    20. Tajik                     21. Georgian                 \n",
      " 22. Tatar                     23. Galician                  24. Malagasy                 \n",
      " 25. Uighur, Uyghur            26. Amharic                   27. Venetian                 \n",
      " 28. Yiddish                   29. Norwegian                 30. Alemannic                \n",
      " 31. Estonian                  32. West Flemish              33. Divehi; Dhivehi; Mald... \n",
      " 34. Japanese                  35. Ilokano                   36. Haitian; Haitian Creole  \n",
      " 37. Belarusian                38. Greek, Modern             39. Ossetian, Ossetic        \n",
      " 40. Welsh                     41. Malayalam                 42. Albanian                 \n",
      " 43. Marathi (Marāṭhī)         44. Armenian                  45. Slovene                  \n",
      " 46. Korean                    47. Breton                    48. Irish                    \n",
      " 49. Luxembourgish, Letzeb...  50. Bengali                   51. Serbian                  \n",
      " 52. Fiji Hindi                53. Javanese                  54. Finnish                  \n",
      " 55. Gan Chinese               56. Kirghiz, Kyrgyz           57. Catalan; Valencian       \n",
      " 58. Quechua                   59. Croatian                  60. Dutch                    \n",
      " 61. Swedish                   62. Ido                       63. Tagalog                  \n",
      " 64. Sanskrit (Saṁskṛta)       65. Piedmontese language      66. Asturian                 \n",
      " 67. Danish                    68. Cebuano                   69. Western Frisian          \n",
      " 70. Kannada                   71. Scots                     72. Maltese                  \n",
      " 73. Swahili                   74. Limburgish, Limburgan...  75. Waray-Waray              \n",
      " 76. Lombard language          77. Uzbek                     78. Kurdish                  \n",
      " 79. Latvian                   80. Burmese                   81. Aragonese                \n",
      " 82. Volapük                   83. Northern Sami             84. Faroese                  \n",
      " 85. Kazakh                    86. Telugu                    87. Ukrainian                \n",
      " 88. Assamese                  89. Chuvash                   90. Silesian                 \n",
      " 91. Turkmen                   92. Romanian, Moldavian, ...  93. Persian                  \n",
      " 94. Tibetan Standard, Tib...  95. Latin                     96. Slovak                   \n",
      " 97. Sinhala, Sinhalese        98. Bavarian                  99. Icelandic                \n",
      "100. Mongolian                101. Walloon                  102. Portuguese               \n",
      "103. Urdu                     104. Gujarati                 105. Manx                     \n",
      "106. Tamil                    107. Khmer                    108. English                  \n",
      "109. Malay                    110. Chechen                  111. Bishnupriya Manipuri     \n",
      "112. Afrikaans                113. Basque                   114. Polish                   \n",
      "115. German                   116. Esperanto                117. Indonesian               \n",
      "118. Occitan                  119. Chinese                  120. Czech                    \n",
      "121. Hebrew (modern)          122. Romansh                  123. Lithuanian               \n",
      "124. Turkish                  125. Nepali                   126. Bosnian                  \n",
      "127. Interlingua              128. Zazaki                   129. Oriya                    \n",
      "130. Hungarian                131. Scottish Gaelic; Gaelic  132. Bashkir                  \n",
      "133. Thai                     134. Panjabi, Punjabi         135. Russian                  \n",
      "\n"
     ]
    }
   ],
   "source": [
    "from polyglot.downloader import downloader\n",
    "\n",
    "print(downloader.supported_languages_table(\"morph2\"))\n"
   ]
  },
  {
   "cell_type": "code",
   "execution_count": 10,
   "id": "abae9fdb",
   "metadata": {},
   "outputs": [],
   "source": [
    "from polyglot.text import Text,Word"
   ]
  },
  {
   "cell_type": "code",
   "execution_count": 11,
   "id": "88b5844d",
   "metadata": {},
   "outputs": [
    {
     "name": "stdout",
     "output_type": "stream",
     "text": [
      "prematured \t\t ['pre', 'matur', 'ed']\n",
      "preprocessing \t\t ['pre', 'process', 'ing']\n",
      "processor \t\t ['process', 'or']\n",
      "invaluable \t\t ['in', 'valuable']\n",
      "thankful \t\t ['thank', 'ful']\n",
      "crossed \t\t ['cross', 'ed']\n"
     ]
    }
   ],
   "source": [
    "words= ['prematured','preprocessing','processor','invaluable','thankful','crossed']\n",
    "\n",
    "for w in words:\n",
    "    w = Word(w , language = 'en')\n",
    "    print(w, '\\t\\t', w.morphemes)"
   ]
  },
  {
   "cell_type": "code",
   "execution_count": 19,
   "id": "864ad65d",
   "metadata": {},
   "outputs": [
    {
     "name": "stdout",
     "output_type": "stream",
     "text": [
      "આત્મીય \t\t ['આત્મ', 'ીય']\n",
      "આત્મનિર્ભર \t\t ['આત્મ', 'નિર્', 'ભર']\n",
      "સુર્યકુમારી \t\t ['સુર', '્ય', 'કુમાર', 'ી']\n",
      "ગુર્જરનગરી \t\t ['ગુર', '્જર', 'નગર', 'ી']\n",
      "સામાજિકવિજ્ઞાન \t\t ['સામા', 'જિક', 'વિજ્ઞાન']\n",
      "અષ્ટભુજા \t\t ['અષ્ટ', 'ભુજ', 'ા']\n",
      "અન્નપૂર્ણા \t\t ['અન્ન', 'પૂર્ણ', 'ા']\n"
     ]
    }
   ],
   "source": [
    "gujword=[ 'આત્મીય' , 'આત્મનિર્ભર' , 'સુર્યકુમારી' , 'ગુર્જરનગરી' , 'સામાજિકવિજ્ઞાન' , 'અષ્ટભુજા' , 'અન્નપૂર્ણા' ]\n",
    "\n",
    "for w in gujword:\n",
    "    w = Word(w , language = 'gu')\n",
    "    print(w, '\\t\\t', w.morphemes)"
   ]
  },
  {
   "cell_type": "code",
   "execution_count": 14,
   "id": "c9978f86",
   "metadata": {},
   "outputs": [
    {
     "name": "stdout",
     "output_type": "stream",
     "text": [
      "[polyglot_data] Downloading package morph2.mr to\n",
      "[polyglot_data]     /home/dai/polyglot_data...\n",
      "[polyglot_data] Downloading package morph2.gu to\n",
      "[polyglot_data]     /home/dai/polyglot_data...\n"
     ]
    }
   ],
   "source": [
    "%%bash\n",
    "polyglot download morph2.mr morph2.gu"
   ]
  },
  {
   "cell_type": "code",
   "execution_count": null,
   "id": "50b428a5",
   "metadata": {},
   "outputs": [],
   "source": [
    "%%bash\n",
    "polyglot download morph2.mr morph2.gu"
   ]
  },
  {
   "cell_type": "code",
   "execution_count": 20,
   "id": "f3b4c52a",
   "metadata": {},
   "outputs": [],
   "source": [
    "sent1='wewillmeettodaynearpassportoffice.'\n",
    "\n",
    "text = Text(sent1)\n",
    "\n",
    "text.language = 'en'"
   ]
  },
  {
   "cell_type": "code",
   "execution_count": 21,
   "id": "93ba853b",
   "metadata": {},
   "outputs": [
    {
     "data": {
      "text/plain": [
       "WordList(['we', 'will', 'meet', 'to', 'day', 'near', 'pass', 'port', 'office', '.'])"
      ]
     },
     "execution_count": 21,
     "metadata": {},
     "output_type": "execute_result"
    }
   ],
   "source": [
    "text.morphemes"
   ]
  },
  {
   "cell_type": "code",
   "execution_count": 22,
   "id": "16741cc7",
   "metadata": {},
   "outputs": [
    {
     "name": "stdout",
     "output_type": "stream",
     "text": [
      "[polyglot_data] Downloading package morph2.sa to\n",
      "[polyglot_data]     /home/dai/polyglot_data...\n"
     ]
    }
   ],
   "source": [
    "%%bash\n",
    "polyglot download morph2.sa"
   ]
  },
  {
   "cell_type": "code",
   "execution_count": 24,
   "id": "ef004acf",
   "metadata": {},
   "outputs": [],
   "source": [
    "from nltk.wsd import lesk\n",
    "from nltk.tokenize import word_tokenize"
   ]
  },
  {
   "cell_type": "code",
   "execution_count": 25,
   "id": "51d16368",
   "metadata": {},
   "outputs": [
    {
     "name": "stdout",
     "output_type": "stream",
     "text": [
      "Synset('jamming.n.01') deliberate radiation or reflection of electromagnetic energy for the purpose of disrupting enemy use of electronic devices or systems\n"
     ]
    }
   ],
   "source": [
    "a1 = lesk(word_tokenize('This device is used to jam the signal'),'jam')\n",
    "\n",
    "print(a1,a1.definition())"
   ]
  },
  {
   "cell_type": "code",
   "execution_count": 26,
   "id": "85c603e9",
   "metadata": {},
   "outputs": [
    {
     "name": "stdout",
     "output_type": "stream",
     "text": [
      "Synset('jam.v.05') get stuck and immobilized\n"
     ]
    }
   ],
   "source": [
    "a2 = lesk(word_tokenize('I am stuck in a traffic jam'),'jam')\n",
    "\n",
    "print(a2,a2.definition()) "
   ]
  },
  {
   "cell_type": "code",
   "execution_count": 39,
   "id": "5ffdbcf5",
   "metadata": {},
   "outputs": [
    {
     "name": "stdout",
     "output_type": "stream",
     "text": [
      "Synset('right.n.06') a turn toward the side of the body that is on the south when the person is facing east\n"
     ]
    }
   ],
   "source": [
    "a3 = lesk(word_tokenize('when you left this place, your left pocket was empty.'),'right')\n",
    "\n",
    "print(a3,a3.definition()) "
   ]
  }
 ],
 "metadata": {
  "kernelspec": {
   "display_name": "Python 3 (ipykernel)",
   "language": "python",
   "name": "python3"
  },
  "language_info": {
   "codemirror_mode": {
    "name": "ipython",
    "version": 3
   },
   "file_extension": ".py",
   "mimetype": "text/x-python",
   "name": "python",
   "nbconvert_exporter": "python",
   "pygments_lexer": "ipython3",
   "version": "3.10.6"
  }
 },
 "nbformat": 4,
 "nbformat_minor": 5
}
