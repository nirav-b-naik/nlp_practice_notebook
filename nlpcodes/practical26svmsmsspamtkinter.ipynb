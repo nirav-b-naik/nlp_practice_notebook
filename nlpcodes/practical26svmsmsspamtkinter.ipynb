{
 "cells": [
  {
   "cell_type": "code",
   "execution_count": 1,
   "id": "73a45456",
   "metadata": {},
   "outputs": [],
   "source": [
    "import os\n",
    "import pandas as pd\n",
    "import numpy as np\n",
    "import seaborn as sns"
   ]
  },
  {
   "cell_type": "markdown",
   "id": "42bdfdc5",
   "metadata": {},
   "source": [
    "<b><u><html>Dataset from mitu.co.in/dataset\n",
    "\n",
    "<b><u>MSSpamCollection.txt"
   ]
  },
  {
   "cell_type": "code",
   "execution_count": 2,
   "id": "76aedd4e",
   "metadata": {},
   "outputs": [],
   "source": [
    "df= pd.read_table('SMSSpamCollection.txt',\n",
    "                  names=['label','text'])"
   ]
  },
  {
   "cell_type": "code",
   "execution_count": 3,
   "id": "fbee5c7e",
   "metadata": {},
   "outputs": [
    {
     "data": {
      "text/html": [
       "<div>\n",
       "<style scoped>\n",
       "    .dataframe tbody tr th:only-of-type {\n",
       "        vertical-align: middle;\n",
       "    }\n",
       "\n",
       "    .dataframe tbody tr th {\n",
       "        vertical-align: top;\n",
       "    }\n",
       "\n",
       "    .dataframe thead th {\n",
       "        text-align: right;\n",
       "    }\n",
       "</style>\n",
       "<table border=\"1\" class=\"dataframe\">\n",
       "  <thead>\n",
       "    <tr style=\"text-align: right;\">\n",
       "      <th></th>\n",
       "      <th>label</th>\n",
       "      <th>text</th>\n",
       "    </tr>\n",
       "  </thead>\n",
       "  <tbody>\n",
       "    <tr>\n",
       "      <th>0</th>\n",
       "      <td>ham</td>\n",
       "      <td>Go until jurong point, crazy.. Available only ...</td>\n",
       "    </tr>\n",
       "    <tr>\n",
       "      <th>1</th>\n",
       "      <td>ham</td>\n",
       "      <td>Ok lar... Joking wif u oni...</td>\n",
       "    </tr>\n",
       "    <tr>\n",
       "      <th>2</th>\n",
       "      <td>spam</td>\n",
       "      <td>Free entry in 2 a wkly comp to win FA Cup fina...</td>\n",
       "    </tr>\n",
       "    <tr>\n",
       "      <th>3</th>\n",
       "      <td>ham</td>\n",
       "      <td>U dun say so early hor... U c already then say...</td>\n",
       "    </tr>\n",
       "    <tr>\n",
       "      <th>4</th>\n",
       "      <td>ham</td>\n",
       "      <td>Nah I don't think he goes to usf, he lives aro...</td>\n",
       "    </tr>\n",
       "  </tbody>\n",
       "</table>\n",
       "</div>"
      ],
      "text/plain": [
       "  label                                               text\n",
       "0   ham  Go until jurong point, crazy.. Available only ...\n",
       "1   ham                      Ok lar... Joking wif u oni...\n",
       "2  spam  Free entry in 2 a wkly comp to win FA Cup fina...\n",
       "3   ham  U dun say so early hor... U c already then say...\n",
       "4   ham  Nah I don't think he goes to usf, he lives aro..."
      ]
     },
     "execution_count": 3,
     "metadata": {},
     "output_type": "execute_result"
    }
   ],
   "source": [
    "df.head()"
   ]
  },
  {
   "cell_type": "code",
   "execution_count": 4,
   "id": "952fe84e",
   "metadata": {},
   "outputs": [],
   "source": [
    "x = df['text']\n",
    "\n",
    "y = df['label']"
   ]
  },
  {
   "cell_type": "code",
   "execution_count": 5,
   "id": "31f40b81",
   "metadata": {},
   "outputs": [
    {
     "data": {
      "text/plain": [
       "<AxesSubplot: xlabel='label', ylabel='count'>"
      ]
     },
     "execution_count": 5,
     "metadata": {},
     "output_type": "execute_result"
    },
    {
     "data": {
      "image/png": "[encoded data removed]",
      "text/plain": [
       "<Figure size 640x480 with 1 Axes>"
      ]
     },
     "metadata": {},
     "output_type": "display_data"
    }
   ],
   "source": [
    "sns.countplot(x=y)"
   ]
  },
  {
   "cell_type": "code",
   "execution_count": 6,
   "id": "0fdf681e",
   "metadata": {},
   "outputs": [
    {
     "data": {
      "text/plain": [
       "ham     4825\n",
       "spam     747\n",
       "Name: label, dtype: int64"
      ]
     },
     "execution_count": 6,
     "metadata": {},
     "output_type": "execute_result"
    }
   ],
   "source": [
    "y.value_counts()"
   ]
  },
  {
   "cell_type": "code",
   "execution_count": 7,
   "id": "c7387e26",
   "metadata": {},
   "outputs": [
    {
     "data": {
      "text/plain": [
       "'Go until jurong point, crazy.. Available only in bugis n great world la e buffet... Cine there got amore wat...'"
      ]
     },
     "execution_count": 7,
     "metadata": {},
     "output_type": "execute_result"
    }
   ],
   "source": [
    "x[0]"
   ]
  },
  {
   "cell_type": "code",
   "execution_count": 8,
   "id": "98dc6659",
   "metadata": {},
   "outputs": [],
   "source": [
    "from nltk.tokenize import word_tokenize\n",
    "from nltk.stem import PorterStemmer\n",
    "from nltk.stem import LancasterStemmer\n",
    "from nltk.corpus import stopwords\n",
    "\n",
    "swords =stopwords.words('english')"
   ]
  },
  {
   "cell_type": "code",
   "execution_count": 9,
   "id": "29b35680",
   "metadata": {},
   "outputs": [],
   "source": [
    "sent = 'Hello friends! How are you? Enjoy learning Python Programming.'"
   ]
  },
  {
   "cell_type": "markdown",
   "id": "0e869ea9",
   "metadata": {},
   "source": [
    "<b><u>tokenize the data "
   ]
  },
  {
   "cell_type": "code",
   "execution_count": 10,
   "id": "9757e245",
   "metadata": {},
   "outputs": [
    {
     "data": {
      "text/plain": [
       "['Hello',\n",
       " 'friends',\n",
       " '!',\n",
       " 'How',\n",
       " 'are',\n",
       " 'you',\n",
       " '?',\n",
       " 'Enjoy',\n",
       " 'learning',\n",
       " 'Python',\n",
       " 'Programming',\n",
       " '.']"
      ]
     },
     "execution_count": 10,
     "metadata": {},
     "output_type": "execute_result"
    }
   ],
   "source": [
    "words = word_tokenize(sent)\n",
    "words"
   ]
  },
  {
   "cell_type": "markdown",
   "id": "3ac3aab8",
   "metadata": {},
   "source": [
    "<b><u>remove punctuation symbols"
   ]
  },
  {
   "cell_type": "code",
   "execution_count": 11,
   "id": "c6f4e0c0",
   "metadata": {},
   "outputs": [
    {
     "data": {
      "text/plain": [
       "'!\"#$%&\\'()*+,-./:;<=>?@[\\\\]^_`{|}~'"
      ]
     },
     "execution_count": 11,
     "metadata": {},
     "output_type": "execute_result"
    }
   ],
   "source": [
    "import string\n",
    "\n",
    "string.punctuation"
   ]
  },
  {
   "cell_type": "code",
   "execution_count": 12,
   "id": "cd2f5a2e",
   "metadata": {},
   "outputs": [],
   "source": [
    "tokens = [x for x in words if x not in string.punctuation]"
   ]
  },
  {
   "cell_type": "code",
   "execution_count": 13,
   "id": "06a1b68b",
   "metadata": {},
   "outputs": [
    {
     "data": {
      "text/plain": [
       "['Hello',\n",
       " 'friends',\n",
       " 'How',\n",
       " 'are',\n",
       " 'you',\n",
       " 'Enjoy',\n",
       " 'learning',\n",
       " 'Python',\n",
       " 'Programming']"
      ]
     },
     "execution_count": 13,
     "metadata": {},
     "output_type": "execute_result"
    }
   ],
   "source": [
    "tokens"
   ]
  },
  {
   "cell_type": "markdown",
   "id": "aeaed55b",
   "metadata": {},
   "source": [
    "<b><u>Remove stopwords"
   ]
  },
  {
   "cell_type": "code",
   "execution_count": 14,
   "id": "3ad8c44b",
   "metadata": {},
   "outputs": [],
   "source": [
    "cleant = [x.lower() for x in tokens if x.lower() not in swords]"
   ]
  },
  {
   "cell_type": "code",
   "execution_count": 15,
   "id": "1c2462dd",
   "metadata": {},
   "outputs": [
    {
     "data": {
      "text/plain": [
       "['hello', 'friends', 'enjoy', 'learning', 'python', 'programming']"
      ]
     },
     "execution_count": 15,
     "metadata": {},
     "output_type": "execute_result"
    }
   ],
   "source": [
    "cleant"
   ]
  },
  {
   "cell_type": "markdown",
   "id": "7348e35d",
   "metadata": {},
   "source": [
    "<b><u>Remove Stem"
   ]
  },
  {
   "cell_type": "code",
   "execution_count": 16,
   "id": "b9b4abe7",
   "metadata": {},
   "outputs": [
    {
     "data": {
      "text/plain": [
       "['hello', 'friend', 'enjoy', 'learn', 'python', 'program']"
      ]
     },
     "execution_count": 16,
     "metadata": {},
     "output_type": "execute_result"
    }
   ],
   "source": [
    "ps = PorterStemmer()\n",
    "cleans = [ps.stem(x) for x in cleant]\n",
    "cleans"
   ]
  },
  {
   "cell_type": "code",
   "execution_count": null,
   "id": "51f7f979",
   "metadata": {},
   "outputs": [],
   "source": []
  },
  {
   "cell_type": "markdown",
   "id": "0f8a6512",
   "metadata": {},
   "source": [
    "<b><u>Creating function to clean the sentance"
   ]
  },
  {
   "cell_type": "code",
   "execution_count": 17,
   "id": "57920717",
   "metadata": {},
   "outputs": [],
   "source": [
    "def clean_text(sent):\n",
    "    \n",
    "    # tokenize the sentance\n",
    "    words = word_tokenize(sent)\n",
    "    \n",
    "    # removing punctuation\n",
    "    tokens = [x for x in words if x not in string.punctuation]\n",
    "    \n",
    "    # removing stopwords\n",
    "    cleant = [x.lower() for x in tokens if x.lower() not in swords]\n",
    "    \n",
    "    # removing stem\n",
    "    cleans = [ps.stem(x) for x in cleant]\n",
    "    \n",
    "    return cleans    "
   ]
  },
  {
   "cell_type": "code",
   "execution_count": 18,
   "id": "d0c63e86",
   "metadata": {},
   "outputs": [],
   "source": [
    "sent1 = 'Hello friends! How are you? Enjoy learning Python Programming.'"
   ]
  },
  {
   "cell_type": "code",
   "execution_count": 19,
   "id": "40cbd1c0",
   "metadata": {},
   "outputs": [
    {
     "data": {
      "text/plain": [
       "['hello', 'friend', 'enjoy', 'learn', 'python', 'program']"
      ]
     },
     "execution_count": 19,
     "metadata": {},
     "output_type": "execute_result"
    }
   ],
   "source": [
    "clean_text(sent1)"
   ]
  },
  {
   "cell_type": "code",
   "execution_count": 20,
   "id": "728a2584",
   "metadata": {},
   "outputs": [
    {
     "data": {
      "text/plain": [
       "['difficult', 'task', 'complet', 'time']"
      ]
     },
     "execution_count": 20,
     "metadata": {},
     "output_type": "execute_result"
    }
   ],
   "source": [
    "sent2 = 'It was a difficult task, but he completed it in time.'\n",
    "clean_text(sent2)"
   ]
  },
  {
   "cell_type": "markdown",
   "id": "12f7e2fa",
   "metadata": {},
   "source": [
    "<b><u>applying on data series"
   ]
  },
  {
   "cell_type": "code",
   "execution_count": 21,
   "id": "08ee4338",
   "metadata": {},
   "outputs": [
    {
     "data": {
      "text/plain": [
       "0       [go, jurong, point, crazi, .., avail, bugi, n,...\n",
       "1                  [ok, lar, ..., joke, wif, u, oni, ...]\n",
       "2       [free, entri, 2, wkli, comp, win, fa, cup, fin...\n",
       "3       [u, dun, say, earli, hor, ..., u, c, alreadi, ...\n",
       "4       [nah, n't, think, goe, usf, live, around, though]\n",
       "                              ...                        \n",
       "5567    [2nd, time, tri, 2, contact, u., u, £750, poun...\n",
       "5568                       [ü, b, go, esplanad, fr, home]\n",
       "5569                           [piti, mood, ..., suggest]\n",
       "5570    [guy, bitch, act, like, 'd, interest, buy, som...\n",
       "5571                                   [rofl, true, name]\n",
       "Name: text, Length: 5572, dtype: object"
      ]
     },
     "execution_count": 21,
     "metadata": {},
     "output_type": "execute_result"
    }
   ],
   "source": [
    "x.apply(lambda x: clean_text(x))"
   ]
  },
  {
   "cell_type": "markdown",
   "id": "2d4a8248",
   "metadata": {},
   "source": [
    "<b><u>TF-TDF Vectorization"
   ]
  },
  {
   "cell_type": "code",
   "execution_count": 22,
   "id": "bfd2ff39",
   "metadata": {},
   "outputs": [],
   "source": [
    "from sklearn.feature_extraction.text import TfidfVectorizer"
   ]
  },
  {
   "cell_type": "code",
   "execution_count": 23,
   "id": "f2824cc0",
   "metadata": {},
   "outputs": [],
   "source": [
    "tfidf=TfidfVectorizer(analyzer=clean_text)"
   ]
  },
  {
   "cell_type": "code",
   "execution_count": 24,
   "id": "ab995210",
   "metadata": {},
   "outputs": [],
   "source": [
    "x_vect = tfidf.fit_transform(x)"
   ]
  },
  {
   "cell_type": "code",
   "execution_count": 25,
   "id": "99a3c4a6",
   "metadata": {},
   "outputs": [
    {
     "data": {
      "text/plain": [
       "array([\"''\", \"'an\", \"'anyth\", ..., '…thank', '〨ud', '鈥┾'], dtype=object)"
      ]
     },
     "execution_count": 25,
     "metadata": {},
     "output_type": "execute_result"
    }
   ],
   "source": [
    "tfidf.get_feature_names_out()"
   ]
  },
  {
   "cell_type": "code",
   "execution_count": 26,
   "id": "ae25c489",
   "metadata": {},
   "outputs": [
    {
     "data": {
      "text/plain": [
       "<5572x7944 sparse matrix of type '<class 'numpy.float64'>'\n",
       "\twith 52448 stored elements in Compressed Sparse Row format>"
      ]
     },
     "execution_count": 26,
     "metadata": {},
     "output_type": "execute_result"
    }
   ],
   "source": [
    "x_vect"
   ]
  },
  {
   "cell_type": "code",
   "execution_count": 27,
   "id": "d083da47",
   "metadata": {},
   "outputs": [],
   "source": [
    "df=pd.DataFrame(x_vect.toarray(),\n",
    "               columns = tfidf.get_feature_names_out())"
   ]
  },
  {
   "cell_type": "code",
   "execution_count": 28,
   "id": "582d7b57",
   "metadata": {},
   "outputs": [
    {
     "data": {
      "text/plain": [
       "Index(['''', ''an', ''anyth', ''comfort', ''d', ''doctor', ''heart', ''help',\n",
       "       ''hex', ''hw',\n",
       "       ...\n",
       "       'é', 'ü', '–', '‘', '’', '“', '…', '…thank', '〨ud', '鈥┾'],\n",
       "      dtype='object', length=7944)"
      ]
     },
     "execution_count": 28,
     "metadata": {},
     "output_type": "execute_result"
    }
   ],
   "source": [
    "df.columns"
   ]
  },
  {
   "cell_type": "markdown",
   "id": "3cb2a1a1",
   "metadata": {},
   "source": [
    "<b><u>Train Test Splits"
   ]
  },
  {
   "cell_type": "code",
   "execution_count": 29,
   "id": "85402c7c",
   "metadata": {},
   "outputs": [],
   "source": [
    "from sklearn.model_selection import train_test_split"
   ]
  },
  {
   "cell_type": "code",
   "execution_count": 30,
   "id": "42b0acf2",
   "metadata": {},
   "outputs": [],
   "source": [
    "X_train, X_test, y_train, y_test = train_test_split(x_vect, y,\n",
    "                                                   random_state=0,\n",
    "                                                   test_size=0.25)"
   ]
  },
  {
   "cell_type": "markdown",
   "id": "d776d3e5",
   "metadata": {},
   "source": [
    "<b><u>Import the classifier SVM/SVC <i>kernel = 'linear'"
   ]
  },
  {
   "cell_type": "code",
   "execution_count": 31,
   "id": "11dd6999",
   "metadata": {},
   "outputs": [],
   "source": [
    "from sklearn.svm import SVC"
   ]
  },
  {
   "cell_type": "code",
   "execution_count": 32,
   "id": "8d325149",
   "metadata": {},
   "outputs": [],
   "source": [
    "clf = SVC(kernel = 'linear')"
   ]
  },
  {
   "cell_type": "code",
   "execution_count": 33,
   "id": "e9a14b17",
   "metadata": {},
   "outputs": [
    {
     "data": {
      "text/html": [
       "<style>#sk-container-id-1 {color: black;background-color: white;}#sk-container-id-1 pre{padding: 0;}#sk-container-id-1 div.sk-toggleable {background-color: white;}#sk-container-id-1 label.sk-toggleable__label {cursor: pointer;display: block;width: 100%;margin-bottom: 0;padding: 0.3em;box-sizing: border-box;text-align: center;}#sk-container-id-1 label.sk-toggleable__label-arrow:before {content: \"▸\";float: left;margin-right: 0.25em;color: #696969;}#sk-container-id-1 label.sk-toggleable__label-arrow:hover:before {color: black;}#sk-container-id-1 div.sk-estimator:hover label.sk-toggleable__label-arrow:before {color: black;}#sk-container-id-1 div.sk-toggleable__content {max-height: 0;max-width: 0;overflow: hidden;text-align: left;background-color: #f0f8ff;}#sk-container-id-1 div.sk-toggleable__content pre {margin: 0.2em;color: black;border-radius: 0.25em;background-color: #f0f8ff;}#sk-container-id-1 input.sk-toggleable__control:checked~div.sk-toggleable__content {max-height: 200px;max-width: 100%;overflow: auto;}#sk-container-id-1 input.sk-toggleable__control:checked~label.sk-toggleable__label-arrow:before {content: \"▾\";}#sk-container-id-1 div.sk-estimator input.sk-toggleable__control:checked~label.sk-toggleable__label {background-color: #d4ebff;}#sk-container-id-1 div.sk-label input.sk-toggleable__control:checked~label.sk-toggleable__label {background-color: #d4ebff;}#sk-container-id-1 input.sk-hidden--visually {border: 0;clip: rect(1px 1px 1px 1px);clip: rect(1px, 1px, 1px, 1px);height: 1px;margin: -1px;overflow: hidden;padding: 0;position: absolute;width: 1px;}#sk-container-id-1 div.sk-estimator {font-family: monospace;background-color: #f0f8ff;border: 1px dotted black;border-radius: 0.25em;box-sizing: border-box;margin-bottom: 0.5em;}#sk-container-id-1 div.sk-estimator:hover {background-color: #d4ebff;}#sk-container-id-1 div.sk-parallel-item::after {content: \"\";width: 100%;border-bottom: 1px solid gray;flex-grow: 1;}#sk-container-id-1 div.sk-label:hover label.sk-toggleable__label {background-color: #d4ebff;}#sk-container-id-1 div.sk-serial::before {content: \"\";position: absolute;border-left: 1px solid gray;box-sizing: border-box;top: 0;bottom: 0;left: 50%;z-index: 0;}#sk-container-id-1 div.sk-serial {display: flex;flex-direction: column;align-items: center;background-color: white;padding-right: 0.2em;padding-left: 0.2em;position: relative;}#sk-container-id-1 div.sk-item {position: relative;z-index: 1;}#sk-container-id-1 div.sk-parallel {display: flex;align-items: stretch;justify-content: center;background-color: white;position: relative;}#sk-container-id-1 div.sk-item::before, #sk-container-id-1 div.sk-parallel-item::before {content: \"\";position: absolute;border-left: 1px solid gray;box-sizing: border-box;top: 0;bottom: 0;left: 50%;z-index: -1;}#sk-container-id-1 div.sk-parallel-item {display: flex;flex-direction: column;z-index: 1;position: relative;background-color: white;}#sk-container-id-1 div.sk-parallel-item:first-child::after {align-self: flex-end;width: 50%;}#sk-container-id-1 div.sk-parallel-item:last-child::after {align-self: flex-start;width: 50%;}#sk-container-id-1 div.sk-parallel-item:only-child::after {width: 0;}#sk-container-id-1 div.sk-dashed-wrapped {border: 1px dashed gray;margin: 0 0.4em 0.5em 0.4em;box-sizing: border-box;padding-bottom: 0.4em;background-color: white;}#sk-container-id-1 div.sk-label label {font-family: monospace;font-weight: bold;display: inline-block;line-height: 1.2em;}#sk-container-id-1 div.sk-label-container {text-align: center;}#sk-container-id-1 div.sk-container {/* jupyter's `normalize.less` sets `[hidden] { display: none; }` but bootstrap.min.css set `[hidden] { display: none !important; }` so we also need the `!important` here to be able to override the default hidden behavior on the sphinx rendered scikit-learn.org. See: https://github.com/scikit-learn/scikit-learn/issues/21755 */display: inline-block !important;position: relative;}#sk-container-id-1 div.sk-text-repr-fallback {display: none;}</style><div id=\"sk-container-id-1\" class=\"sk-top-container\"><div class=\"sk-text-repr-fallback\"><pre>SVC(kernel=&#x27;linear&#x27;)</pre><b>In a Jupyter environment, please rerun this cell to show the HTML representation or trust the notebook. <br />On GitHub, the HTML representation is unable to render, please try loading this page with nbviewer.org.</b></div><div class=\"sk-container\" hidden><div class=\"sk-item\"><div class=\"sk-estimator sk-toggleable\"><input class=\"sk-toggleable__control sk-hidden--visually\" id=\"sk-estimator-id-1\" type=\"checkbox\" checked><label for=\"sk-estimator-id-1\" class=\"sk-toggleable__label sk-toggleable__label-arrow\">SVC</label><div class=\"sk-toggleable__content\"><pre>SVC(kernel=&#x27;linear&#x27;)</pre></div></div></div></div></div>"
      ],
      "text/plain": [
       "SVC(kernel='linear')"
      ]
     },
     "execution_count": 33,
     "metadata": {},
     "output_type": "execute_result"
    }
   ],
   "source": [
    "# train\n",
    "clf.fit(X_train,y_train)"
   ]
  },
  {
   "cell_type": "code",
   "execution_count": 34,
   "id": "94f2e36c",
   "metadata": {},
   "outputs": [],
   "source": [
    "from sklearn.metrics import ConfusionMatrixDisplay\n",
    "from sklearn.metrics import confusion_matrix\n",
    "from sklearn.metrics import classification_report\n",
    "from sklearn.metrics import accuracy_score"
   ]
  },
  {
   "cell_type": "code",
   "execution_count": 35,
   "id": "d12e04b0",
   "metadata": {},
   "outputs": [],
   "source": [
    "y_pred=clf.predict(X_test)"
   ]
  },
  {
   "cell_type": "code",
   "execution_count": 36,
   "id": "c36adeee",
   "metadata": {},
   "outputs": [
    {
     "data": {
      "text/plain": [
       "0.9834888729361091"
      ]
     },
     "execution_count": 36,
     "metadata": {},
     "output_type": "execute_result"
    }
   ],
   "source": [
    "accuracy_score(y_test,y_pred)"
   ]
  },
  {
   "cell_type": "code",
   "execution_count": 37,
   "id": "e88ea855",
   "metadata": {},
   "outputs": [
    {
     "name": "stdout",
     "output_type": "stream",
     "text": [
      "              precision    recall  f1-score   support\n",
      "\n",
      "         ham       0.98      1.00      0.99      1208\n",
      "        spam       0.99      0.88      0.93       185\n",
      "\n",
      "    accuracy                           0.98      1393\n",
      "   macro avg       0.99      0.94      0.96      1393\n",
      "weighted avg       0.98      0.98      0.98      1393\n",
      "\n"
     ]
    }
   ],
   "source": [
    "print(classification_report(y_test,y_pred))"
   ]
  },
  {
   "cell_type": "code",
   "execution_count": 38,
   "id": "14211801",
   "metadata": {},
   "outputs": [
    {
     "data": {
      "text/plain": [
       "<sklearn.metrics._plot.confusion_matrix.ConfusionMatrixDisplay at 0x7f4c678bc5e0>"
      ]
     },
     "execution_count": 38,
     "metadata": {},
     "output_type": "execute_result"
    },
    {
     "data": {
      "image/png": "[encoded data removed]",
      "text/plain": [
       "<Figure size 640x480 with 2 Axes>"
      ]
     },
     "metadata": {},
     "output_type": "display_data"
    }
   ],
   "source": [
    "ConfusionMatrixDisplay.from_predictions(y_test,y_pred)"
   ]
  },
  {
   "cell_type": "markdown",
   "id": "48e443ee",
   "metadata": {},
   "source": [
    "<b><u>Import the Sample file and do prediction"
   ]
  },
  {
   "cell_type": "code",
   "execution_count": 57,
   "id": "21faaf2b",
   "metadata": {},
   "outputs": [],
   "source": [
    "X_sample= pd.read_table('sample.csv',header=None)"
   ]
  },
  {
   "cell_type": "code",
   "execution_count": 58,
   "id": "bad57cac",
   "metadata": {},
   "outputs": [],
   "source": [
    "X_sample = X_sample[0]"
   ]
  },
  {
   "cell_type": "code",
   "execution_count": 59,
   "id": "f00c3a8f",
   "metadata": {},
   "outputs": [],
   "source": [
    "x_vect_sample = tfidf.transform(X_sample)"
   ]
  },
  {
   "cell_type": "code",
   "execution_count": 60,
   "id": "ef0bc83b",
   "metadata": {},
   "outputs": [],
   "source": [
    "y_pred_sample=clf.predict(x_vect_sample)"
   ]
  },
  {
   "cell_type": "code",
   "execution_count": 61,
   "id": "1e0e07e8",
   "metadata": {},
   "outputs": [
    {
     "data": {
      "text/plain": [
       "array(['ham', 'spam', 'ham'], dtype=object)"
      ]
     },
     "execution_count": 61,
     "metadata": {},
     "output_type": "execute_result"
    }
   ],
   "source": [
    "y_pred_sample"
   ]
  },
  {
   "cell_type": "markdown",
   "id": "4d4747f2",
   "metadata": {},
   "source": [
    "### <b><u>Save the object of classifier and vectorier"
   ]
  },
  {
   "cell_type": "code",
   "execution_count": 62,
   "id": "34c79ca1",
   "metadata": {},
   "outputs": [],
   "source": [
    "import joblib"
   ]
  },
  {
   "cell_type": "code",
   "execution_count": 64,
   "id": "98c016c5",
   "metadata": {},
   "outputs": [
    {
     "data": {
      "text/plain": [
       "['classfier_26.model']"
      ]
     },
     "execution_count": 64,
     "metadata": {},
     "output_type": "execute_result"
    }
   ],
   "source": [
    "joblib.dump(clf,'classfier_26.model')"
   ]
  },
  {
   "cell_type": "code",
   "execution_count": 65,
   "id": "42f87625",
   "metadata": {},
   "outputs": [
    {
     "data": {
      "text/plain": [
       "['tfidf_26.model']"
      ]
     },
     "execution_count": 65,
     "metadata": {},
     "output_type": "execute_result"
    }
   ],
   "source": [
    "joblib.dump(tfidf,'tfidf_26.model')"
   ]
  },
  {
   "cell_type": "code",
   "execution_count": null,
   "id": "dc02fb9b",
   "metadata": {},
   "outputs": [],
   "source": []
  },
  {
   "cell_type": "markdown",
   "id": "91f17382",
   "metadata": {},
   "source": [
    "### <b><u> Creating UI using tkinter for above model"
   ]
  },
  {
   "cell_type": "code",
   "execution_count": 66,
   "id": "6719e694",
   "metadata": {},
   "outputs": [],
   "source": [
    "from tkinter import *"
   ]
  },
  {
   "cell_type": "code",
   "execution_count": 67,
   "id": "f620026d",
   "metadata": {},
   "outputs": [],
   "source": [
    "model = joblib.load('classfier_26.model')"
   ]
  },
  {
   "cell_type": "code",
   "execution_count": 68,
   "id": "ea2575cd",
   "metadata": {},
   "outputs": [],
   "source": [
    "tfidf = joblib.load('tfidf_26.model')"
   ]
  },
  {
   "cell_type": "code",
   "execution_count": 71,
   "id": "798feb82",
   "metadata": {},
   "outputs": [],
   "source": [
    "top = Tk()\n",
    "\n",
    "top.title('My Program')\n",
    "top.geometry(\"500x350\")\n",
    "\n",
    "def show():\n",
    "    \n",
    "    # converting text to str type\n",
    "    msg = str(text.get())\n",
    "    \n",
    "    # predict on model\n",
    "    pred = model.predict(tfidf.transform([msg]))\n",
    "    \n",
    "    # printing prediction on UI\n",
    "    Label(text = f'Prediction is: {pred[0]}').place(x=150,y=200)\n",
    "\n",
    "\n",
    "text = StringVar()  # intvar ,doublevar, stringvar\n",
    "\n",
    "l = Label(text = \"Enter Message: \").place(x=100,y=100)\n",
    "e = Entry(textvariable=text).place(x=200,y=100)\n",
    "b = Button(text = \"Submit\", command=show).place(x=180,y=150)\n",
    "\n",
    "top.mainloop()"
   ]
  },
  {
   "cell_type": "code",
   "execution_count": null,
   "id": "c5fd7a25",
   "metadata": {},
   "outputs": [],
   "source": []
  },
  {
   "cell_type": "code",
   "execution_count": null,
   "id": "075a8c77",
   "metadata": {},
   "outputs": [],
   "source": []
  }
 ],
 "metadata": {
  "kernelspec": {
   "display_name": "Python 3 (ipykernel)",
   "language": "python",
   "name": "python3"
  },
  "language_info": {
   "codemirror_mode": {
    "name": "ipython",
    "version": 3
   },
   "file_extension": ".py",
   "mimetype": "text/x-python",
   "name": "python",
   "nbconvert_exporter": "python",
   "pygments_lexer": "ipython3",
   "version": "3.10.6"
  }
 },
 "nbformat": 4,
 "nbformat_minor": 5
}
