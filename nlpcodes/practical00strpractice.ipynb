{
 "cells": [
  {
   "cell_type": "code",
   "execution_count": 1,
   "id": "ba678f87",
   "metadata": {},
   "outputs": [
    {
     "name": "stdout",
     "output_type": "stream",
     "text": [
      "Enter the sentence with age: They told me that their ages are 32 31 and 27 respectively\n"
     ]
    }
   ],
   "source": [
    "sent= input('Enter the sentence with age: ')\n",
    "# They told me that their ages are 32 31 and 27 respectively"
   ]
  },
  {
   "cell_type": "code",
   "execution_count": 2,
   "id": "65be1f7e",
   "metadata": {},
   "outputs": [],
   "source": [
    "list1=sent.split()"
   ]
  },
  {
   "cell_type": "code",
   "execution_count": 3,
   "id": "e95de2cf",
   "metadata": {},
   "outputs": [
    {
     "name": "stdout",
     "output_type": "stream",
     "text": [
      "30.0\n"
     ]
    }
   ],
   "source": [
    "calc=0\n",
    "count=0\n",
    "for i in list1:\n",
    "    if i.isnumeric():\n",
    "        count=count+1\n",
    "        calc=calc+int(i)\n",
    "        \n",
    "print(calc/count)"
   ]
  },
  {
   "cell_type": "code",
   "execution_count": 4,
   "id": "a0886228",
   "metadata": {},
   "outputs": [
    {
     "name": "stdout",
     "output_type": "stream",
     "text": [
      "30.0\n"
     ]
    }
   ],
   "source": [
    "num=list()\n",
    "count=0\n",
    "for word in sent.split():\n",
    "    if word.isnumeric():\n",
    "        num.append(int(word))\n",
    "\n",
    "print(sum(num)/len(num))"
   ]
  },
  {
   "cell_type": "code",
   "execution_count": 5,
   "id": "afb0a9ad",
   "metadata": {},
   "outputs": [],
   "source": [
    "sent1='Hello friends ! How are you ? Welcome to Pune .'"
   ]
  },
  {
   "cell_type": "code",
   "execution_count": 6,
   "id": "9300ce36",
   "metadata": {},
   "outputs": [
    {
     "name": "stdout",
     "output_type": "stream",
     "text": [
      "0.2727272727272727\n"
     ]
    }
   ],
   "source": [
    "punch=[]\n",
    "for word in sent1.split():\n",
    "    if not word.isalpha():\n",
    "        punch.append(word)\n",
    "\n",
    "print(len(punch)/len(sent1.split()))"
   ]
  },
  {
   "cell_type": "code",
   "execution_count": 7,
   "id": "9fc29d3f",
   "metadata": {},
   "outputs": [
    {
     "data": {
      "text/plain": [
       "58"
      ]
     },
     "execution_count": 7,
     "metadata": {},
     "output_type": "execute_result"
    }
   ],
   "source": [
    "len(sent)"
   ]
  },
  {
   "cell_type": "code",
   "execution_count": 8,
   "id": "399a6685",
   "metadata": {},
   "outputs": [
    {
     "name": "stdout",
     "output_type": "stream",
     "text": [
      "27.27272727272727\n"
     ]
    }
   ],
   "source": [
    "punch=[word for word in sent1.split() if not word.isalpha()]\n",
    "\n",
    "print(len(punch)/len(sent1.split())*100)"
   ]
  },
  {
   "cell_type": "code",
   "execution_count": 9,
   "id": "4d2f2db2",
   "metadata": {},
   "outputs": [
    {
     "data": {
      "text/plain": [
       "['!', '?', '.']"
      ]
     },
     "execution_count": 9,
     "metadata": {},
     "output_type": "execute_result"
    }
   ],
   "source": [
    "punch"
   ]
  },
  {
   "cell_type": "code",
   "execution_count": null,
   "id": "0fc0b969",
   "metadata": {},
   "outputs": [],
   "source": []
  }
 ],
 "metadata": {
  "kernelspec": {
   "display_name": "Python 3 (ipykernel)",
   "language": "python",
   "name": "python3"
  },
  "language_info": {
   "codemirror_mode": {
    "name": "ipython",
    "version": 3
   },
   "file_extension": ".py",
   "mimetype": "text/x-python",
   "name": "python",
   "nbconvert_exporter": "python",
   "pygments_lexer": "ipython3",
   "version": "3.10.6"
  }
 },
 "nbformat": 4,
 "nbformat_minor": 5
}
