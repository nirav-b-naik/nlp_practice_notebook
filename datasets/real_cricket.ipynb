{
 "cells": [
  {
   "cell_type": "code",
   "execution_count": 1,
   "metadata": {},
   "outputs": [],
   "source": [
    "import pandas as pd"
   ]
  },
  {
   "cell_type": "code",
   "execution_count": 5,
   "metadata": {},
   "outputs": [],
   "source": [
    "col = ['ball','inns','batting','striker',\n",
    "      'nstriker','bowler','runs','extras',\n",
    "      'out','who']\n",
    "data=pd.read_csv('236520.csv', skiprows=19, \n",
    "           names=col)"
   ]
  },
  {
   "cell_type": "code",
   "execution_count": 8,
   "metadata": {},
   "outputs": [],
   "source": [
    "ysingh = data[data['striker'] == 'Yuvraj Singh']"
   ]
  },
  {
   "cell_type": "code",
   "execution_count": 10,
   "metadata": {},
   "outputs": [
    {
     "name": "stdout",
     "output_type": "stream",
     "text": [
      "Runs: 82\n",
      "in 91 balls\n"
     ]
    }
   ],
   "source": [
    "print('Runs:',ysingh['runs'].sum())\n",
    "print('in', len(ysingh),'balls')"
   ]
  },
  {
   "cell_type": "code",
   "execution_count": 52,
   "metadata": {},
   "outputs": [],
   "source": [
    "india = data[data['batting'] == 'Pakistan']"
   ]
  },
  {
   "cell_type": "code",
   "execution_count": 54,
   "metadata": {},
   "outputs": [
    {
     "data": {
      "text/html": [
       "<div>\n",
       "<style scoped>\n",
       "    .dataframe tbody tr th:only-of-type {\n",
       "        vertical-align: middle;\n",
       "    }\n",
       "\n",
       "    .dataframe tbody tr th {\n",
       "        vertical-align: top;\n",
       "    }\n",
       "\n",
       "    .dataframe thead th {\n",
       "        text-align: right;\n",
       "    }\n",
       "</style>\n",
       "<table border=\"1\" class=\"dataframe\">\n",
       "  <thead>\n",
       "    <tr style=\"text-align: right;\">\n",
       "      <th></th>\n",
       "      <th>ball</th>\n",
       "      <th>inns</th>\n",
       "      <th>batting</th>\n",
       "      <th>striker</th>\n",
       "      <th>nstriker</th>\n",
       "      <th>bowler</th>\n",
       "      <th>runs</th>\n",
       "      <th>extras</th>\n",
       "      <th>out</th>\n",
       "      <th>who</th>\n",
       "    </tr>\n",
       "  </thead>\n",
       "  <tbody>\n",
       "    <tr>\n",
       "      <th>ball</th>\n",
       "      <td>1</td>\n",
       "      <td>0.2</td>\n",
       "      <td>Pakistan</td>\n",
       "      <td>Salman Butt</td>\n",
       "      <td>Kamran Akmal</td>\n",
       "      <td>IK Pathan</td>\n",
       "      <td>0</td>\n",
       "      <td>0</td>\n",
       "      <td>caught</td>\n",
       "      <td>Salman Butt</td>\n",
       "    </tr>\n",
       "    <tr>\n",
       "      <th>ball</th>\n",
       "      <td>1</td>\n",
       "      <td>8.4</td>\n",
       "      <td>Pakistan</td>\n",
       "      <td>Kamran Akmal</td>\n",
       "      <td>Shoaib Malik</td>\n",
       "      <td>IK Pathan</td>\n",
       "      <td>0</td>\n",
       "      <td>0</td>\n",
       "      <td>bowled</td>\n",
       "      <td>Kamran Akmal</td>\n",
       "    </tr>\n",
       "    <tr>\n",
       "      <th>ball</th>\n",
       "      <td>1</td>\n",
       "      <td>9.6</td>\n",
       "      <td>Pakistan</td>\n",
       "      <td>Mohammad Yousuf</td>\n",
       "      <td>Shoaib Malik</td>\n",
       "      <td>S Sreesanth</td>\n",
       "      <td>1</td>\n",
       "      <td>0</td>\n",
       "      <td>run out</td>\n",
       "      <td>Mohammad Yousuf</td>\n",
       "    </tr>\n",
       "    <tr>\n",
       "      <th>ball</th>\n",
       "      <td>1</td>\n",
       "      <td>13.2</td>\n",
       "      <td>Pakistan</td>\n",
       "      <td>Inzamam-ul-Haq</td>\n",
       "      <td>Shoaib Malik</td>\n",
       "      <td>Z Khan</td>\n",
       "      <td>0</td>\n",
       "      <td>0</td>\n",
       "      <td>caught</td>\n",
       "      <td>Inzamam-ul-Haq</td>\n",
       "    </tr>\n",
       "    <tr>\n",
       "      <th>ball</th>\n",
       "      <td>1</td>\n",
       "      <td>33.6</td>\n",
       "      <td>Pakistan</td>\n",
       "      <td>Shoaib Malik</td>\n",
       "      <td>Younis Khan</td>\n",
       "      <td>SR Tendulkar</td>\n",
       "      <td>1</td>\n",
       "      <td>0</td>\n",
       "      <td>run out</td>\n",
       "      <td>Shoaib Malik</td>\n",
       "    </tr>\n",
       "    <tr>\n",
       "      <th>ball</th>\n",
       "      <td>1</td>\n",
       "      <td>38.3</td>\n",
       "      <td>Pakistan</td>\n",
       "      <td>Shahid Afridi</td>\n",
       "      <td>Younis Khan</td>\n",
       "      <td>IK Pathan</td>\n",
       "      <td>0</td>\n",
       "      <td>0</td>\n",
       "      <td>caught</td>\n",
       "      <td>Shahid Afridi</td>\n",
       "    </tr>\n",
       "    <tr>\n",
       "      <th>ball</th>\n",
       "      <td>1</td>\n",
       "      <td>43.4</td>\n",
       "      <td>Pakistan</td>\n",
       "      <td>Abdul Razzaq</td>\n",
       "      <td>Younis Khan</td>\n",
       "      <td>S Sreesanth</td>\n",
       "      <td>0</td>\n",
       "      <td>0</td>\n",
       "      <td>run out</td>\n",
       "      <td>Abdul Razzaq</td>\n",
       "    </tr>\n",
       "    <tr>\n",
       "      <th>ball</th>\n",
       "      <td>1</td>\n",
       "      <td>46.1</td>\n",
       "      <td>Pakistan</td>\n",
       "      <td>Younis Khan</td>\n",
       "      <td>Naved-ul-Hasan</td>\n",
       "      <td>AB Agarkar</td>\n",
       "      <td>0</td>\n",
       "      <td>0</td>\n",
       "      <td>caught</td>\n",
       "      <td>Younis Khan</td>\n",
       "    </tr>\n",
       "    <tr>\n",
       "      <th>ball</th>\n",
       "      <td>1</td>\n",
       "      <td>48.1</td>\n",
       "      <td>Pakistan</td>\n",
       "      <td>Naved-ul-Hasan</td>\n",
       "      <td>Umar Gul</td>\n",
       "      <td>AB Agarkar</td>\n",
       "      <td>0</td>\n",
       "      <td>0</td>\n",
       "      <td>caught</td>\n",
       "      <td>Naved-ul-Hasan</td>\n",
       "    </tr>\n",
       "    <tr>\n",
       "      <th>ball</th>\n",
       "      <td>1</td>\n",
       "      <td>49.2</td>\n",
       "      <td>Pakistan</td>\n",
       "      <td>Mohammad Asif</td>\n",
       "      <td>Umar Gul</td>\n",
       "      <td>Z Khan</td>\n",
       "      <td>1</td>\n",
       "      <td>0</td>\n",
       "      <td>run out</td>\n",
       "      <td>Mohammad Asif</td>\n",
       "    </tr>\n",
       "  </tbody>\n",
       "</table>\n",
       "</div>"
      ],
      "text/plain": [
       "      ball  inns   batting          striker        nstriker        bowler  \\\n",
       "ball     1   0.2  Pakistan      Salman Butt    Kamran Akmal     IK Pathan   \n",
       "ball     1   8.4  Pakistan     Kamran Akmal    Shoaib Malik     IK Pathan   \n",
       "ball     1   9.6  Pakistan  Mohammad Yousuf    Shoaib Malik   S Sreesanth   \n",
       "ball     1  13.2  Pakistan   Inzamam-ul-Haq    Shoaib Malik        Z Khan   \n",
       "ball     1  33.6  Pakistan     Shoaib Malik     Younis Khan  SR Tendulkar   \n",
       "ball     1  38.3  Pakistan    Shahid Afridi     Younis Khan     IK Pathan   \n",
       "ball     1  43.4  Pakistan     Abdul Razzaq     Younis Khan   S Sreesanth   \n",
       "ball     1  46.1  Pakistan      Younis Khan  Naved-ul-Hasan    AB Agarkar   \n",
       "ball     1  48.1  Pakistan   Naved-ul-Hasan        Umar Gul    AB Agarkar   \n",
       "ball     1  49.2  Pakistan    Mohammad Asif        Umar Gul        Z Khan   \n",
       "\n",
       "      runs  extras      out              who  \n",
       "ball     0       0   caught      Salman Butt  \n",
       "ball     0       0   bowled     Kamran Akmal  \n",
       "ball     1       0  run out  Mohammad Yousuf  \n",
       "ball     0       0   caught   Inzamam-ul-Haq  \n",
       "ball     1       0  run out     Shoaib Malik  \n",
       "ball     0       0   caught    Shahid Afridi  \n",
       "ball     0       0  run out     Abdul Razzaq  \n",
       "ball     0       0   caught      Younis Khan  \n",
       "ball     0       0   caught   Naved-ul-Hasan  \n",
       "ball     1       0  run out    Mohammad Asif  "
      ]
     },
     "execution_count": 54,
     "metadata": {},
     "output_type": "execute_result"
    }
   ],
   "source": [
    "p_bats = india[india['out'].notnull()] \n",
    "p_bats"
   ]
  },
  {
   "cell_type": "code",
   "execution_count": 57,
   "metadata": {},
   "outputs": [
    {
     "data": {
      "text/plain": [
       "6"
      ]
     },
     "execution_count": 57,
     "metadata": {},
     "output_type": "execute_result"
    }
   ],
   "source": [
    "p_bats = p_bats[p_bats['out'] != 'run out']\n",
    "len(p_bats)"
   ]
  },
  {
   "cell_type": "code",
   "execution_count": 58,
   "metadata": {},
   "outputs": [
    {
     "data": {
      "text/plain": [
       "bowler\n",
       "AB Agarkar    2\n",
       "IK Pathan     3\n",
       "Z Khan        1\n",
       "Name: ball, dtype: int64"
      ]
     },
     "execution_count": 58,
     "metadata": {},
     "output_type": "execute_result"
    }
   ],
   "source": [
    "val = p_bats.groupby('bowler')\n",
    "val['ball'].agg(np.size)"
   ]
  },
  {
   "cell_type": "code",
   "execution_count": null,
   "metadata": {},
   "outputs": [],
   "source": []
  }
 ],
 "metadata": {
  "kernelspec": {
   "display_name": "Python 3",
   "language": "python",
   "name": "python3"
  },
  "language_info": {
   "codemirror_mode": {
    "name": "ipython",
    "version": 3
   },
   "file_extension": ".py",
   "mimetype": "text/x-python",
   "name": "python",
   "nbconvert_exporter": "python",
   "pygments_lexer": "ipython3",
   "version": "3.5.2"
  }
 },
 "nbformat": 4,
 "nbformat_minor": 2
}
